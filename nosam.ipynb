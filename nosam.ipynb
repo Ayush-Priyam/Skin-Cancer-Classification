{
  "cells": [
    {
      "cell_type": "markdown",
      "metadata": {
        "id": "TrhhhpBGrpUy"
      },
      "source": [
        "Importing all libraries that'll be required.\n"
      ]
    },
    {
      "cell_type": "code",
      "execution_count": 1,
      "metadata": {
        "id": "WWyh0J_zobPv"
      },
      "outputs": [],
      "source": [
        "import pandas as pd\n",
        "import matplotlib.pyplot as plt\n",
        "import numpy as np\n",
        "import seaborn as sns\n",
        "# from sklearn.pipeline import Pipeline\n",
        "from sklearn.preprocessing import StandardScaler\n",
        "from sklearn.tree import DecisionTreeClassifier # Import Decision Tree Classifier\n",
        "from sklearn.model_selection import train_test_split # Import train_test_split function\n",
        "from sklearn import metrics #Import scikit-learn metrics module for accuracy calculation\n",
        "from sklearn.metrics import confusion_matrix\n",
        "from sklearn.svm import SVC \n",
        "%matplotlib inline\n"
      ]
    },
    {
      "cell_type": "code",
      "execution_count": 69,
      "metadata": {},
      "outputs": [],
      "source": [
        "from sklearn.metrics import roc_curve, auc\n",
        "def plot_roc_curve(true_y, y_prob):\n",
        "    \"\"\"\n",
        "    plots the roc curve based of the probabilities\n",
        "    \"\"\"\n",
        "\n",
        "    fpr, tpr, thresholds = roc_curve(true_y, y_prob)\n",
        "    plt.plot(fpr, tpr)\n",
        "    plt.xlabel('False Positive Rate')\n",
        "    plt.ylabel('True Positive Rate')\n"
      ]
    },
    {
      "cell_type": "code",
      "execution_count": 2,
      "metadata": {},
      "outputs": [],
      "source": [
        "def plot_confusion_matrix(y, y_predict, t='Confusion Matrix'):\n",
        "    \"this function plots the confusion matrix\"\n",
        "    from sklearn.metrics import confusion_matrix\n",
        "    cm = confusion_matrix(y, y_predict)\n",
        "    fig, ax = plt.subplots(figsize=(4, 3))\n",
        "    sns.heatmap(cm, annot=True, ax=ax, cmap='mako', fmt=',d').set_title(\n",
        "        t, fontsize=12)\n",
        "    # sns.color_palette(\"mako\", as_cmap=True)\n",
        "    ax.set_xlabel('Predicted labels', fontsize=10)\n",
        "    ax.set_ylabel('True labels', fontsize=10)\n",
        "    # ax.set_title('Confusion Matrix');\n",
        "    ax.xaxis.set_ticklabels(['BENIGN', 'MALIGNANT'], fontsize=8)\n",
        "    ax.yaxis.set_ticklabels(['BENIGN', 'MALIGNANT'], fontsize=8)\n",
        "    plt.show()\n"
      ]
    },
    {
      "cell_type": "code",
      "execution_count": 3,
      "metadata": {},
      "outputs": [],
      "source": [
        "# plot_confusion_matrix(y_test, y_pred, t='Confusion Matrix')"
      ]
    },
    {
      "cell_type": "markdown",
      "metadata": {
        "id": "6CV9WIysr41X"
      },
      "source": [
        "Importing data\n"
      ]
    },
    {
      "cell_type": "code",
      "execution_count": 4,
      "metadata": {
        "colab": {
          "base_uri": "https://localhost:8080/",
          "height": 329
        },
        "id": "OOmye2QKd3q2",
        "outputId": "dfec6f02-2197-4441-94a3-e3f5292648d5"
      },
      "outputs": [],
      "source": [
        "# from google.colab import drive\n",
        "# drive.mount('/content/drive')"
      ]
    },
    {
      "cell_type": "code",
      "execution_count": 5,
      "metadata": {
        "id": "O5fb7JUhr9yR"
      },
      "outputs": [],
      "source": [
        "df = pd.read_csv('train40Features.csv')\n",
        "target = pd.read_csv('train.csv')"
      ]
    },
    {
      "cell_type": "code",
      "execution_count": 6,
      "metadata": {
        "colab": {
          "base_uri": "https://localhost:8080/",
          "height": 299
        },
        "id": "0m92ykKBuhlL",
        "outputId": "098dca07-f146-4b6e-c6ef-ac913185dd66"
      },
      "outputs": [
        {
          "data": {
            "text/html": [
              "<div>\n",
              "<style scoped>\n",
              "    .dataframe tbody tr th:only-of-type {\n",
              "        vertical-align: middle;\n",
              "    }\n",
              "\n",
              "    .dataframe tbody tr th {\n",
              "        vertical-align: top;\n",
              "    }\n",
              "\n",
              "    .dataframe thead th {\n",
              "        text-align: right;\n",
              "    }\n",
              "</style>\n",
              "<table border=\"1\" class=\"dataframe\">\n",
              "  <thead>\n",
              "    <tr style=\"text-align: right;\">\n",
              "      <th></th>\n",
              "      <th>sex</th>\n",
              "      <th>age_approx</th>\n",
              "      <th>anatom_site_general_challenge</th>\n",
              "      <th>V1</th>\n",
              "      <th>V2</th>\n",
              "      <th>V3</th>\n",
              "      <th>V4</th>\n",
              "      <th>V5</th>\n",
              "      <th>V6</th>\n",
              "      <th>V7</th>\n",
              "      <th>...</th>\n",
              "      <th>V28</th>\n",
              "      <th>V29</th>\n",
              "      <th>V30</th>\n",
              "      <th>V31</th>\n",
              "      <th>V32</th>\n",
              "      <th>V33</th>\n",
              "      <th>V34</th>\n",
              "      <th>V35</th>\n",
              "      <th>V36</th>\n",
              "      <th>V37</th>\n",
              "    </tr>\n",
              "  </thead>\n",
              "  <tbody>\n",
              "    <tr>\n",
              "      <th>0</th>\n",
              "      <td>3</td>\n",
              "      <td>45.0</td>\n",
              "      <td>2</td>\n",
              "      <td>0.1024</td>\n",
              "      <td>9</td>\n",
              "      <td>8789.0625</td>\n",
              "      <td>84.667969</td>\n",
              "      <td>147</td>\n",
              "      <td>1435.546875</td>\n",
              "      <td>2.148438</td>\n",
              "      <td>...</td>\n",
              "      <td>1.835102</td>\n",
              "      <td>1.428571</td>\n",
              "      <td>1.176471</td>\n",
              "      <td>0.368451</td>\n",
              "      <td>24.984602</td>\n",
              "      <td>1.309416</td>\n",
              "      <td>0.272855</td>\n",
              "      <td>0.098885</td>\n",
              "      <td>52.594848</td>\n",
              "      <td>0.428426</td>\n",
              "    </tr>\n",
              "    <tr>\n",
              "      <th>1</th>\n",
              "      <td>2</td>\n",
              "      <td>45.0</td>\n",
              "      <td>7</td>\n",
              "      <td>0.1024</td>\n",
              "      <td>5</td>\n",
              "      <td>4882.8125</td>\n",
              "      <td>84.570312</td>\n",
              "      <td>88</td>\n",
              "      <td>859.375000</td>\n",
              "      <td>1.687500</td>\n",
              "      <td>...</td>\n",
              "      <td>1.301577</td>\n",
              "      <td>1.666667</td>\n",
              "      <td>1.095238</td>\n",
              "      <td>0.391409</td>\n",
              "      <td>25.587810</td>\n",
              "      <td>1.240345</td>\n",
              "      <td>0.317342</td>\n",
              "      <td>0.125999</td>\n",
              "      <td>57.991760</td>\n",
              "      <td>0.430091</td>\n",
              "    </tr>\n",
              "    <tr>\n",
              "      <th>2</th>\n",
              "      <td>2</td>\n",
              "      <td>50.0</td>\n",
              "      <td>3</td>\n",
              "      <td>0.1024</td>\n",
              "      <td>6</td>\n",
              "      <td>5859.3750</td>\n",
              "      <td>84.960938</td>\n",
              "      <td>100</td>\n",
              "      <td>976.562500</td>\n",
              "      <td>1.781250</td>\n",
              "      <td>...</td>\n",
              "      <td>1.475337</td>\n",
              "      <td>1.531477</td>\n",
              "      <td>0.581197</td>\n",
              "      <td>0.209879</td>\n",
              "      <td>14.387222</td>\n",
              "      <td>1.272196</td>\n",
              "      <td>0.410767</td>\n",
              "      <td>0.138850</td>\n",
              "      <td>56.623874</td>\n",
              "      <td>0.423386</td>\n",
              "    </tr>\n",
              "    <tr>\n",
              "      <th>3</th>\n",
              "      <td>2</td>\n",
              "      <td>45.0</td>\n",
              "      <td>2</td>\n",
              "      <td>0.1024</td>\n",
              "      <td>15</td>\n",
              "      <td>14648.4375</td>\n",
              "      <td>84.765625</td>\n",
              "      <td>210</td>\n",
              "      <td>2050.781250</td>\n",
              "      <td>2.640625</td>\n",
              "      <td>...</td>\n",
              "      <td>2.772424</td>\n",
              "      <td>1.000000</td>\n",
              "      <td>2.000000</td>\n",
              "      <td>0.643102</td>\n",
              "      <td>47.842749</td>\n",
              "      <td>1.504529</td>\n",
              "      <td>0.830075</td>\n",
              "      <td>0.271822</td>\n",
              "      <td>46.900691</td>\n",
              "      <td>0.425073</td>\n",
              "    </tr>\n",
              "    <tr>\n",
              "      <th>4</th>\n",
              "      <td>2</td>\n",
              "      <td>55.0</td>\n",
              "      <td>7</td>\n",
              "      <td>0.1024</td>\n",
              "      <td>6</td>\n",
              "      <td>5859.3750</td>\n",
              "      <td>84.667969</td>\n",
              "      <td>98</td>\n",
              "      <td>957.031250</td>\n",
              "      <td>1.765625</td>\n",
              "      <td>...</td>\n",
              "      <td>1.358362</td>\n",
              "      <td>1.479167</td>\n",
              "      <td>1.100000</td>\n",
              "      <td>0.361749</td>\n",
              "      <td>23.899347</td>\n",
              "      <td>1.310327</td>\n",
              "      <td>0.357306</td>\n",
              "      <td>0.125601</td>\n",
              "      <td>57.289260</td>\n",
              "      <td>0.428426</td>\n",
              "    </tr>\n",
              "  </tbody>\n",
              "</table>\n",
              "<p>5 rows × 40 columns</p>\n",
              "</div>"
            ],
            "text/plain": [
              "   sex  age_approx  anatom_site_general_challenge      V1  V2          V3  \\\n",
              "0    3        45.0                              2  0.1024   9   8789.0625   \n",
              "1    2        45.0                              7  0.1024   5   4882.8125   \n",
              "2    2        50.0                              3  0.1024   6   5859.3750   \n",
              "3    2        45.0                              2  0.1024  15  14648.4375   \n",
              "4    2        55.0                              7  0.1024   6   5859.3750   \n",
              "\n",
              "          V4   V5           V6        V7  ...       V28       V29       V30  \\\n",
              "0  84.667969  147  1435.546875  2.148438  ...  1.835102  1.428571  1.176471   \n",
              "1  84.570312   88   859.375000  1.687500  ...  1.301577  1.666667  1.095238   \n",
              "2  84.960938  100   976.562500  1.781250  ...  1.475337  1.531477  0.581197   \n",
              "3  84.765625  210  2050.781250  2.640625  ...  2.772424  1.000000  2.000000   \n",
              "4  84.667969   98   957.031250  1.765625  ...  1.358362  1.479167  1.100000   \n",
              "\n",
              "        V31        V32       V33       V34       V35        V36       V37  \n",
              "0  0.368451  24.984602  1.309416  0.272855  0.098885  52.594848  0.428426  \n",
              "1  0.391409  25.587810  1.240345  0.317342  0.125999  57.991760  0.430091  \n",
              "2  0.209879  14.387222  1.272196  0.410767  0.138850  56.623874  0.423386  \n",
              "3  0.643102  47.842749  1.504529  0.830075  0.271822  46.900691  0.425073  \n",
              "4  0.361749  23.899347  1.310327  0.357306  0.125601  57.289260  0.428426  \n",
              "\n",
              "[5 rows x 40 columns]"
            ]
          },
          "execution_count": 6,
          "metadata": {},
          "output_type": "execute_result"
        }
      ],
      "source": [
        "df.head()"
      ]
    },
    {
      "cell_type": "code",
      "execution_count": 7,
      "metadata": {},
      "outputs": [
        {
          "data": {
            "text/html": [
              "<div>\n",
              "<style scoped>\n",
              "    .dataframe tbody tr th:only-of-type {\n",
              "        vertical-align: middle;\n",
              "    }\n",
              "\n",
              "    .dataframe tbody tr th {\n",
              "        vertical-align: top;\n",
              "    }\n",
              "\n",
              "    .dataframe thead th {\n",
              "        text-align: right;\n",
              "    }\n",
              "</style>\n",
              "<table border=\"1\" class=\"dataframe\">\n",
              "  <thead>\n",
              "    <tr style=\"text-align: right;\">\n",
              "      <th></th>\n",
              "      <th>image_name</th>\n",
              "      <th>patient_id</th>\n",
              "      <th>sex</th>\n",
              "      <th>age_approx</th>\n",
              "      <th>anatom_site_general_challenge</th>\n",
              "      <th>diagnosis</th>\n",
              "      <th>benign_malignant</th>\n",
              "      <th>target</th>\n",
              "    </tr>\n",
              "  </thead>\n",
              "  <tbody>\n",
              "    <tr>\n",
              "      <th>0</th>\n",
              "      <td>ISIC_2637011</td>\n",
              "      <td>IP_7279968</td>\n",
              "      <td>male</td>\n",
              "      <td>45.0</td>\n",
              "      <td>head/neck</td>\n",
              "      <td>unknown</td>\n",
              "      <td>benign</td>\n",
              "      <td>0</td>\n",
              "    </tr>\n",
              "    <tr>\n",
              "      <th>1</th>\n",
              "      <td>ISIC_0015719</td>\n",
              "      <td>IP_3075186</td>\n",
              "      <td>female</td>\n",
              "      <td>45.0</td>\n",
              "      <td>upper extremity</td>\n",
              "      <td>unknown</td>\n",
              "      <td>benign</td>\n",
              "      <td>0</td>\n",
              "    </tr>\n",
              "    <tr>\n",
              "      <th>2</th>\n",
              "      <td>ISIC_0052212</td>\n",
              "      <td>IP_2842074</td>\n",
              "      <td>female</td>\n",
              "      <td>50.0</td>\n",
              "      <td>lower extremity</td>\n",
              "      <td>nevus</td>\n",
              "      <td>benign</td>\n",
              "      <td>0</td>\n",
              "    </tr>\n",
              "    <tr>\n",
              "      <th>3</th>\n",
              "      <td>ISIC_0068279</td>\n",
              "      <td>IP_6890425</td>\n",
              "      <td>female</td>\n",
              "      <td>45.0</td>\n",
              "      <td>head/neck</td>\n",
              "      <td>unknown</td>\n",
              "      <td>benign</td>\n",
              "      <td>0</td>\n",
              "    </tr>\n",
              "    <tr>\n",
              "      <th>4</th>\n",
              "      <td>ISIC_0074268</td>\n",
              "      <td>IP_8723313</td>\n",
              "      <td>female</td>\n",
              "      <td>55.0</td>\n",
              "      <td>upper extremity</td>\n",
              "      <td>unknown</td>\n",
              "      <td>benign</td>\n",
              "      <td>0</td>\n",
              "    </tr>\n",
              "  </tbody>\n",
              "</table>\n",
              "</div>"
            ],
            "text/plain": [
              "     image_name  patient_id     sex  age_approx anatom_site_general_challenge  \\\n",
              "0  ISIC_2637011  IP_7279968    male        45.0                     head/neck   \n",
              "1  ISIC_0015719  IP_3075186  female        45.0               upper extremity   \n",
              "2  ISIC_0052212  IP_2842074  female        50.0               lower extremity   \n",
              "3  ISIC_0068279  IP_6890425  female        45.0                     head/neck   \n",
              "4  ISIC_0074268  IP_8723313  female        55.0               upper extremity   \n",
              "\n",
              "  diagnosis benign_malignant  target  \n",
              "0   unknown           benign       0  \n",
              "1   unknown           benign       0  \n",
              "2     nevus           benign       0  \n",
              "3   unknown           benign       0  \n",
              "4   unknown           benign       0  "
            ]
          },
          "execution_count": 7,
          "metadata": {},
          "output_type": "execute_result"
        }
      ],
      "source": [
        "target.head()"
      ]
    },
    {
      "cell_type": "code",
      "execution_count": 8,
      "metadata": {},
      "outputs": [
        {
          "data": {
            "text/plain": [
              "sex                              0\n",
              "age_approx                       0\n",
              "anatom_site_general_challenge    0\n",
              "V1                               0\n",
              "V2                               0\n",
              "V3                               0\n",
              "V4                               0\n",
              "V5                               0\n",
              "V6                               0\n",
              "V7                               0\n",
              "V8                               0\n",
              "V9                               0\n",
              "V10                              0\n",
              "V11                              0\n",
              "V12                              0\n",
              "V13                              0\n",
              "V14                              0\n",
              "V15                              0\n",
              "V16                              0\n",
              "V17                              0\n",
              "V18                              0\n",
              "V19                              0\n",
              "V20                              0\n",
              "V21                              0\n",
              "V22                              0\n",
              "V23                              0\n",
              "V24                              0\n",
              "V25                              0\n",
              "V26                              0\n",
              "V27                              0\n",
              "V28                              0\n",
              "V29                              0\n",
              "V30                              0\n",
              "V31                              0\n",
              "V32                              0\n",
              "V33                              0\n",
              "V34                              0\n",
              "V35                              0\n",
              "V36                              0\n",
              "V37                              0\n",
              "dtype: int64"
            ]
          },
          "execution_count": 8,
          "metadata": {},
          "output_type": "execute_result"
        }
      ],
      "source": [
        "df.isnull().sum()"
      ]
    },
    {
      "cell_type": "code",
      "execution_count": 9,
      "metadata": {
        "colab": {
          "base_uri": "https://localhost:8080/"
        },
        "id": "PGRrn36Kuovb",
        "outputId": "8c47db3d-0064-4463-d4b6-3a7443b5c9a6"
      },
      "outputs": [],
      "source": [
        "for i in range(len(df.columns)):\n",
        "    if df.iloc[:,i].isnull().sum():\n",
        "        print(df.columns[i])"
      ]
    },
    {
      "cell_type": "code",
      "execution_count": 10,
      "metadata": {},
      "outputs": [
        {
          "name": "stdout",
          "output_type": "stream",
          "text": [
            "sex 65\n",
            "age_approx 68\n",
            "anatom_site_general_challenge 527\n"
          ]
        }
      ],
      "source": [
        "for i in range(len(target.columns)):\n",
        "    if target.iloc[:, i].isnull().sum():\n",
        "        print(target.columns[i], target.iloc[:, i].isnull().sum())\n"
      ]
    },
    {
      "cell_type": "code",
      "execution_count": 11,
      "metadata": {},
      "outputs": [
        {
          "data": {
            "text/plain": [
              "male      17080\n",
              "female    15981\n",
              "Name: sex, dtype: int64"
            ]
          },
          "execution_count": 11,
          "metadata": {},
          "output_type": "execute_result"
        }
      ],
      "source": [
        "target['sex'].value_counts()"
      ]
    },
    {
      "cell_type": "code",
      "execution_count": 12,
      "metadata": {
        "colab": {
          "base_uri": "https://localhost:8080/"
        },
        "id": "JX_yy104us9u",
        "outputId": "786278a7-8405-428c-93e3-e38732f5ba3f"
      },
      "outputs": [
        {
          "data": {
            "text/plain": [
              "sex                                int64\n",
              "age_approx                       float64\n",
              "anatom_site_general_challenge      int64\n",
              "V1                               float64\n",
              "V2                                 int64\n",
              "V3                               float64\n",
              "V4                               float64\n",
              "V5                                 int64\n",
              "V6                               float64\n",
              "V7                               float64\n",
              "V8                               float64\n",
              "V9                               float64\n",
              "V10                              float64\n",
              "V11                              float64\n",
              "V12                              float64\n",
              "V13                              float64\n",
              "V14                              float64\n",
              "V15                              float64\n",
              "V16                              float64\n",
              "V17                                int64\n",
              "V18                                int64\n",
              "V19                              float64\n",
              "V20                              float64\n",
              "V21                              float64\n",
              "V22                              float64\n",
              "V23                              float64\n",
              "V24                              float64\n",
              "V25                              float64\n",
              "V26                              float64\n",
              "V27                              float64\n",
              "V28                              float64\n",
              "V29                              float64\n",
              "V30                              float64\n",
              "V31                              float64\n",
              "V32                              float64\n",
              "V33                              float64\n",
              "V34                              float64\n",
              "V35                              float64\n",
              "V36                              float64\n",
              "V37                              float64\n",
              "dtype: object"
            ]
          },
          "execution_count": 12,
          "metadata": {},
          "output_type": "execute_result"
        }
      ],
      "source": [
        "df.dtypes"
      ]
    },
    {
      "cell_type": "code",
      "execution_count": 13,
      "metadata": {
        "id": "NtmbP3HhvA_S"
      },
      "outputs": [],
      "source": [
        "#adding target column to our train dataset\n",
        "df['target'] = target['target']"
      ]
    },
    {
      "cell_type": "code",
      "execution_count": 14,
      "metadata": {
        "id": "v4-YWdUgByEz"
      },
      "outputs": [],
      "source": [
        "df.drop('V1',axis = 1, inplace = True) "
      ]
    },
    {
      "cell_type": "code",
      "execution_count": 15,
      "metadata": {
        "colab": {
          "base_uri": "https://localhost:8080/",
          "height": 299
        },
        "id": "3swLbobAvORE",
        "outputId": "e88040a9-fe7f-4cf0-fa12-546e8ad4d1b6"
      },
      "outputs": [
        {
          "data": {
            "text/html": [
              "<div>\n",
              "<style scoped>\n",
              "    .dataframe tbody tr th:only-of-type {\n",
              "        vertical-align: middle;\n",
              "    }\n",
              "\n",
              "    .dataframe tbody tr th {\n",
              "        vertical-align: top;\n",
              "    }\n",
              "\n",
              "    .dataframe thead th {\n",
              "        text-align: right;\n",
              "    }\n",
              "</style>\n",
              "<table border=\"1\" class=\"dataframe\">\n",
              "  <thead>\n",
              "    <tr style=\"text-align: right;\">\n",
              "      <th></th>\n",
              "      <th>sex</th>\n",
              "      <th>age_approx</th>\n",
              "      <th>anatom_site_general_challenge</th>\n",
              "      <th>V2</th>\n",
              "      <th>V3</th>\n",
              "      <th>V4</th>\n",
              "      <th>V5</th>\n",
              "      <th>V6</th>\n",
              "      <th>V7</th>\n",
              "      <th>V8</th>\n",
              "      <th>...</th>\n",
              "      <th>V29</th>\n",
              "      <th>V30</th>\n",
              "      <th>V31</th>\n",
              "      <th>V32</th>\n",
              "      <th>V33</th>\n",
              "      <th>V34</th>\n",
              "      <th>V35</th>\n",
              "      <th>V36</th>\n",
              "      <th>V37</th>\n",
              "      <th>target</th>\n",
              "    </tr>\n",
              "  </thead>\n",
              "  <tbody>\n",
              "    <tr>\n",
              "      <th>0</th>\n",
              "      <td>3</td>\n",
              "      <td>45.0</td>\n",
              "      <td>2</td>\n",
              "      <td>9</td>\n",
              "      <td>8789.0625</td>\n",
              "      <td>84.667969</td>\n",
              "      <td>147</td>\n",
              "      <td>1435.546875</td>\n",
              "      <td>2.148438</td>\n",
              "      <td>0.074062</td>\n",
              "      <td>...</td>\n",
              "      <td>1.428571</td>\n",
              "      <td>1.176471</td>\n",
              "      <td>0.368451</td>\n",
              "      <td>24.984602</td>\n",
              "      <td>1.309416</td>\n",
              "      <td>0.272855</td>\n",
              "      <td>0.098885</td>\n",
              "      <td>52.594848</td>\n",
              "      <td>0.428426</td>\n",
              "      <td>0</td>\n",
              "    </tr>\n",
              "    <tr>\n",
              "      <th>1</th>\n",
              "      <td>2</td>\n",
              "      <td>45.0</td>\n",
              "      <td>7</td>\n",
              "      <td>5</td>\n",
              "      <td>4882.8125</td>\n",
              "      <td>84.570312</td>\n",
              "      <td>88</td>\n",
              "      <td>859.375000</td>\n",
              "      <td>1.687500</td>\n",
              "      <td>0.074457</td>\n",
              "      <td>...</td>\n",
              "      <td>1.666667</td>\n",
              "      <td>1.095238</td>\n",
              "      <td>0.391409</td>\n",
              "      <td>25.587810</td>\n",
              "      <td>1.240345</td>\n",
              "      <td>0.317342</td>\n",
              "      <td>0.125999</td>\n",
              "      <td>57.991760</td>\n",
              "      <td>0.430091</td>\n",
              "      <td>0</td>\n",
              "    </tr>\n",
              "    <tr>\n",
              "      <th>2</th>\n",
              "      <td>2</td>\n",
              "      <td>50.0</td>\n",
              "      <td>3</td>\n",
              "      <td>6</td>\n",
              "      <td>5859.3750</td>\n",
              "      <td>84.960938</td>\n",
              "      <td>100</td>\n",
              "      <td>976.562500</td>\n",
              "      <td>1.781250</td>\n",
              "      <td>0.074682</td>\n",
              "      <td>...</td>\n",
              "      <td>1.531477</td>\n",
              "      <td>0.581197</td>\n",
              "      <td>0.209879</td>\n",
              "      <td>14.387222</td>\n",
              "      <td>1.272196</td>\n",
              "      <td>0.410767</td>\n",
              "      <td>0.138850</td>\n",
              "      <td>56.623874</td>\n",
              "      <td>0.423386</td>\n",
              "      <td>0</td>\n",
              "    </tr>\n",
              "    <tr>\n",
              "      <th>3</th>\n",
              "      <td>2</td>\n",
              "      <td>45.0</td>\n",
              "      <td>2</td>\n",
              "      <td>15</td>\n",
              "      <td>14648.4375</td>\n",
              "      <td>84.765625</td>\n",
              "      <td>210</td>\n",
              "      <td>2050.781250</td>\n",
              "      <td>2.640625</td>\n",
              "      <td>0.075285</td>\n",
              "      <td>...</td>\n",
              "      <td>1.000000</td>\n",
              "      <td>2.000000</td>\n",
              "      <td>0.643102</td>\n",
              "      <td>47.842749</td>\n",
              "      <td>1.504529</td>\n",
              "      <td>0.830075</td>\n",
              "      <td>0.271822</td>\n",
              "      <td>46.900691</td>\n",
              "      <td>0.425073</td>\n",
              "      <td>0</td>\n",
              "    </tr>\n",
              "    <tr>\n",
              "      <th>4</th>\n",
              "      <td>2</td>\n",
              "      <td>55.0</td>\n",
              "      <td>7</td>\n",
              "      <td>6</td>\n",
              "      <td>5859.3750</td>\n",
              "      <td>84.667969</td>\n",
              "      <td>98</td>\n",
              "      <td>957.031250</td>\n",
              "      <td>1.765625</td>\n",
              "      <td>0.074475</td>\n",
              "      <td>...</td>\n",
              "      <td>1.479167</td>\n",
              "      <td>1.100000</td>\n",
              "      <td>0.361749</td>\n",
              "      <td>23.899347</td>\n",
              "      <td>1.310327</td>\n",
              "      <td>0.357306</td>\n",
              "      <td>0.125601</td>\n",
              "      <td>57.289260</td>\n",
              "      <td>0.428426</td>\n",
              "      <td>0</td>\n",
              "    </tr>\n",
              "  </tbody>\n",
              "</table>\n",
              "<p>5 rows × 40 columns</p>\n",
              "</div>"
            ],
            "text/plain": [
              "   sex  age_approx  anatom_site_general_challenge  V2          V3         V4  \\\n",
              "0    3        45.0                              2   9   8789.0625  84.667969   \n",
              "1    2        45.0                              7   5   4882.8125  84.570312   \n",
              "2    2        50.0                              3   6   5859.3750  84.960938   \n",
              "3    2        45.0                              2  15  14648.4375  84.765625   \n",
              "4    2        55.0                              7   6   5859.3750  84.667969   \n",
              "\n",
              "    V5           V6        V7        V8  ...       V29       V30       V31  \\\n",
              "0  147  1435.546875  2.148438  0.074062  ...  1.428571  1.176471  0.368451   \n",
              "1   88   859.375000  1.687500  0.074457  ...  1.666667  1.095238  0.391409   \n",
              "2  100   976.562500  1.781250  0.074682  ...  1.531477  0.581197  0.209879   \n",
              "3  210  2050.781250  2.640625  0.075285  ...  1.000000  2.000000  0.643102   \n",
              "4   98   957.031250  1.765625  0.074475  ...  1.479167  1.100000  0.361749   \n",
              "\n",
              "         V32       V33       V34       V35        V36       V37  target  \n",
              "0  24.984602  1.309416  0.272855  0.098885  52.594848  0.428426       0  \n",
              "1  25.587810  1.240345  0.317342  0.125999  57.991760  0.430091       0  \n",
              "2  14.387222  1.272196  0.410767  0.138850  56.623874  0.423386       0  \n",
              "3  47.842749  1.504529  0.830075  0.271822  46.900691  0.425073       0  \n",
              "4  23.899347  1.310327  0.357306  0.125601  57.289260  0.428426       0  \n",
              "\n",
              "[5 rows x 40 columns]"
            ]
          },
          "execution_count": 15,
          "metadata": {},
          "output_type": "execute_result"
        }
      ],
      "source": [
        "df.head()"
      ]
    },
    {
      "cell_type": "code",
      "execution_count": 16,
      "metadata": {
        "colab": {
          "base_uri": "https://localhost:8080/",
          "height": 299
        },
        "id": "rbTOKgm0CFHV",
        "outputId": "4e798f72-6778-4d0a-850b-4db3866dfa84"
      },
      "outputs": [
        {
          "data": {
            "text/html": [
              "<div>\n",
              "<style scoped>\n",
              "    .dataframe tbody tr th:only-of-type {\n",
              "        vertical-align: middle;\n",
              "    }\n",
              "\n",
              "    .dataframe tbody tr th {\n",
              "        vertical-align: top;\n",
              "    }\n",
              "\n",
              "    .dataframe thead th {\n",
              "        text-align: right;\n",
              "    }\n",
              "</style>\n",
              "<table border=\"1\" class=\"dataframe\">\n",
              "  <thead>\n",
              "    <tr style=\"text-align: right;\">\n",
              "      <th></th>\n",
              "      <th>sex</th>\n",
              "      <th>age</th>\n",
              "      <th>anatomy</th>\n",
              "      <th>V1</th>\n",
              "      <th>V2</th>\n",
              "      <th>V3</th>\n",
              "      <th>V4</th>\n",
              "      <th>V5</th>\n",
              "      <th>V6</th>\n",
              "      <th>V7</th>\n",
              "      <th>...</th>\n",
              "      <th>V28</th>\n",
              "      <th>V29</th>\n",
              "      <th>V30</th>\n",
              "      <th>V31</th>\n",
              "      <th>V32</th>\n",
              "      <th>V33</th>\n",
              "      <th>V34</th>\n",
              "      <th>V35</th>\n",
              "      <th>V36</th>\n",
              "      <th>target</th>\n",
              "    </tr>\n",
              "  </thead>\n",
              "  <tbody>\n",
              "    <tr>\n",
              "      <th>0</th>\n",
              "      <td>3</td>\n",
              "      <td>45.0</td>\n",
              "      <td>2</td>\n",
              "      <td>9</td>\n",
              "      <td>8789.0625</td>\n",
              "      <td>84.667969</td>\n",
              "      <td>147</td>\n",
              "      <td>1435.546875</td>\n",
              "      <td>2.148438</td>\n",
              "      <td>0.074062</td>\n",
              "      <td>...</td>\n",
              "      <td>1.428571</td>\n",
              "      <td>1.176471</td>\n",
              "      <td>0.368451</td>\n",
              "      <td>24.984602</td>\n",
              "      <td>1.309416</td>\n",
              "      <td>0.272855</td>\n",
              "      <td>0.098885</td>\n",
              "      <td>52.594848</td>\n",
              "      <td>0.428426</td>\n",
              "      <td>0</td>\n",
              "    </tr>\n",
              "    <tr>\n",
              "      <th>1</th>\n",
              "      <td>2</td>\n",
              "      <td>45.0</td>\n",
              "      <td>7</td>\n",
              "      <td>5</td>\n",
              "      <td>4882.8125</td>\n",
              "      <td>84.570312</td>\n",
              "      <td>88</td>\n",
              "      <td>859.375000</td>\n",
              "      <td>1.687500</td>\n",
              "      <td>0.074457</td>\n",
              "      <td>...</td>\n",
              "      <td>1.666667</td>\n",
              "      <td>1.095238</td>\n",
              "      <td>0.391409</td>\n",
              "      <td>25.587810</td>\n",
              "      <td>1.240345</td>\n",
              "      <td>0.317342</td>\n",
              "      <td>0.125999</td>\n",
              "      <td>57.991760</td>\n",
              "      <td>0.430091</td>\n",
              "      <td>0</td>\n",
              "    </tr>\n",
              "    <tr>\n",
              "      <th>2</th>\n",
              "      <td>2</td>\n",
              "      <td>50.0</td>\n",
              "      <td>3</td>\n",
              "      <td>6</td>\n",
              "      <td>5859.3750</td>\n",
              "      <td>84.960938</td>\n",
              "      <td>100</td>\n",
              "      <td>976.562500</td>\n",
              "      <td>1.781250</td>\n",
              "      <td>0.074682</td>\n",
              "      <td>...</td>\n",
              "      <td>1.531477</td>\n",
              "      <td>0.581197</td>\n",
              "      <td>0.209879</td>\n",
              "      <td>14.387222</td>\n",
              "      <td>1.272196</td>\n",
              "      <td>0.410767</td>\n",
              "      <td>0.138850</td>\n",
              "      <td>56.623874</td>\n",
              "      <td>0.423386</td>\n",
              "      <td>0</td>\n",
              "    </tr>\n",
              "    <tr>\n",
              "      <th>3</th>\n",
              "      <td>2</td>\n",
              "      <td>45.0</td>\n",
              "      <td>2</td>\n",
              "      <td>15</td>\n",
              "      <td>14648.4375</td>\n",
              "      <td>84.765625</td>\n",
              "      <td>210</td>\n",
              "      <td>2050.781250</td>\n",
              "      <td>2.640625</td>\n",
              "      <td>0.075285</td>\n",
              "      <td>...</td>\n",
              "      <td>1.000000</td>\n",
              "      <td>2.000000</td>\n",
              "      <td>0.643102</td>\n",
              "      <td>47.842749</td>\n",
              "      <td>1.504529</td>\n",
              "      <td>0.830075</td>\n",
              "      <td>0.271822</td>\n",
              "      <td>46.900691</td>\n",
              "      <td>0.425073</td>\n",
              "      <td>0</td>\n",
              "    </tr>\n",
              "    <tr>\n",
              "      <th>4</th>\n",
              "      <td>2</td>\n",
              "      <td>55.0</td>\n",
              "      <td>7</td>\n",
              "      <td>6</td>\n",
              "      <td>5859.3750</td>\n",
              "      <td>84.667969</td>\n",
              "      <td>98</td>\n",
              "      <td>957.031250</td>\n",
              "      <td>1.765625</td>\n",
              "      <td>0.074475</td>\n",
              "      <td>...</td>\n",
              "      <td>1.479167</td>\n",
              "      <td>1.100000</td>\n",
              "      <td>0.361749</td>\n",
              "      <td>23.899347</td>\n",
              "      <td>1.310327</td>\n",
              "      <td>0.357306</td>\n",
              "      <td>0.125601</td>\n",
              "      <td>57.289260</td>\n",
              "      <td>0.428426</td>\n",
              "      <td>0</td>\n",
              "    </tr>\n",
              "  </tbody>\n",
              "</table>\n",
              "<p>5 rows × 40 columns</p>\n",
              "</div>"
            ],
            "text/plain": [
              "   sex   age  anatomy  V1          V2         V3   V4           V5        V6  \\\n",
              "0    3  45.0        2   9   8789.0625  84.667969  147  1435.546875  2.148438   \n",
              "1    2  45.0        7   5   4882.8125  84.570312   88   859.375000  1.687500   \n",
              "2    2  50.0        3   6   5859.3750  84.960938  100   976.562500  1.781250   \n",
              "3    2  45.0        2  15  14648.4375  84.765625  210  2050.781250  2.640625   \n",
              "4    2  55.0        7   6   5859.3750  84.667969   98   957.031250  1.765625   \n",
              "\n",
              "         V7  ...       V28       V29       V30        V31       V32       V33  \\\n",
              "0  0.074062  ...  1.428571  1.176471  0.368451  24.984602  1.309416  0.272855   \n",
              "1  0.074457  ...  1.666667  1.095238  0.391409  25.587810  1.240345  0.317342   \n",
              "2  0.074682  ...  1.531477  0.581197  0.209879  14.387222  1.272196  0.410767   \n",
              "3  0.075285  ...  1.000000  2.000000  0.643102  47.842749  1.504529  0.830075   \n",
              "4  0.074475  ...  1.479167  1.100000  0.361749  23.899347  1.310327  0.357306   \n",
              "\n",
              "        V34        V35       V36  target  \n",
              "0  0.098885  52.594848  0.428426       0  \n",
              "1  0.125999  57.991760  0.430091       0  \n",
              "2  0.138850  56.623874  0.423386       0  \n",
              "3  0.271822  46.900691  0.425073       0  \n",
              "4  0.125601  57.289260  0.428426       0  \n",
              "\n",
              "[5 rows x 40 columns]"
            ]
          },
          "execution_count": 16,
          "metadata": {},
          "output_type": "execute_result"
        }
      ],
      "source": [
        "columns = ['sex','age','anatomy','V1', 'V2', 'V3', 'V4', 'V5', 'V6', 'V7', 'V8','V9', 'V10', 'V11', 'V12', 'V13', 'V14', 'V15', 'V16', 'V17', 'V18', 'V19', 'V20', 'V21', 'V22', 'V23', 'V24', 'V25', 'V26', 'V27', 'V28', 'V29', 'V30', 'V31', 'V32', 'V33', 'V34','V35','V36','target']\n",
        "df.columns = columns\n",
        "df.head()"
      ]
    },
    {
      "cell_type": "code",
      "execution_count": 17,
      "metadata": {
        "colab": {
          "base_uri": "https://localhost:8080/",
          "height": 393
        },
        "id": "oaPdmlODvaqM",
        "outputId": "699b29b0-c335-4ae6-ab19-b9b1fd8726c6"
      },
      "outputs": [
        {
          "data": {
            "text/html": [
              "<div>\n",
              "<style scoped>\n",
              "    .dataframe tbody tr th:only-of-type {\n",
              "        vertical-align: middle;\n",
              "    }\n",
              "\n",
              "    .dataframe tbody tr th {\n",
              "        vertical-align: top;\n",
              "    }\n",
              "\n",
              "    .dataframe thead th {\n",
              "        text-align: right;\n",
              "    }\n",
              "</style>\n",
              "<table border=\"1\" class=\"dataframe\">\n",
              "  <thead>\n",
              "    <tr style=\"text-align: right;\">\n",
              "      <th></th>\n",
              "      <th>sex</th>\n",
              "      <th>age</th>\n",
              "      <th>anatomy</th>\n",
              "      <th>V1</th>\n",
              "      <th>V2</th>\n",
              "      <th>V3</th>\n",
              "      <th>V4</th>\n",
              "      <th>V5</th>\n",
              "      <th>V6</th>\n",
              "      <th>V7</th>\n",
              "      <th>...</th>\n",
              "      <th>V28</th>\n",
              "      <th>V29</th>\n",
              "      <th>V30</th>\n",
              "      <th>V31</th>\n",
              "      <th>V32</th>\n",
              "      <th>V33</th>\n",
              "      <th>V34</th>\n",
              "      <th>V35</th>\n",
              "      <th>V36</th>\n",
              "      <th>target</th>\n",
              "    </tr>\n",
              "  </thead>\n",
              "  <tbody>\n",
              "    <tr>\n",
              "      <th>count</th>\n",
              "      <td>33126.000000</td>\n",
              "      <td>33126.000000</td>\n",
              "      <td>33126.000000</td>\n",
              "      <td>33126.000000</td>\n",
              "      <td>33126.000000</td>\n",
              "      <td>33126.000000</td>\n",
              "      <td>33126.000000</td>\n",
              "      <td>33126.000000</td>\n",
              "      <td>33126.000000</td>\n",
              "      <td>33126.000000</td>\n",
              "      <td>...</td>\n",
              "      <td>33126.000000</td>\n",
              "      <td>33126.000000</td>\n",
              "      <td>33126.000000</td>\n",
              "      <td>33126.000000</td>\n",
              "      <td>33126.000000</td>\n",
              "      <td>33126.000000</td>\n",
              "      <td>33126.000000</td>\n",
              "      <td>33126.000000</td>\n",
              "      <td>33126.000000</td>\n",
              "      <td>33126.000000</td>\n",
              "    </tr>\n",
              "    <tr>\n",
              "      <th>mean</th>\n",
              "      <td>2.513645</td>\n",
              "      <td>48.870016</td>\n",
              "      <td>5.065809</td>\n",
              "      <td>6.878404</td>\n",
              "      <td>6717.191085</td>\n",
              "      <td>84.370619</td>\n",
              "      <td>110.897543</td>\n",
              "      <td>1082.983816</td>\n",
              "      <td>1.866387</td>\n",
              "      <td>0.074047</td>\n",
              "      <td>...</td>\n",
              "      <td>1.415027</td>\n",
              "      <td>1.142590</td>\n",
              "      <td>0.408730</td>\n",
              "      <td>27.292585</td>\n",
              "      <td>1.264613</td>\n",
              "      <td>0.358829</td>\n",
              "      <td>0.129603</td>\n",
              "      <td>55.520107</td>\n",
              "      <td>0.431964</td>\n",
              "      <td>0.017630</td>\n",
              "    </tr>\n",
              "    <tr>\n",
              "      <th>std</th>\n",
              "      <td>0.503732</td>\n",
              "      <td>14.365592</td>\n",
              "      <td>1.698412</td>\n",
              "      <td>3.545849</td>\n",
              "      <td>3462.743538</td>\n",
              "      <td>0.905896</td>\n",
              "      <td>37.956843</td>\n",
              "      <td>370.672296</td>\n",
              "      <td>0.296538</td>\n",
              "      <td>0.001333</td>\n",
              "      <td>...</td>\n",
              "      <td>0.277098</td>\n",
              "      <td>0.409174</td>\n",
              "      <td>0.142931</td>\n",
              "      <td>8.152956</td>\n",
              "      <td>0.063238</td>\n",
              "      <td>0.164234</td>\n",
              "      <td>0.052083</td>\n",
              "      <td>3.343317</td>\n",
              "      <td>0.007983</td>\n",
              "      <td>0.131603</td>\n",
              "    </tr>\n",
              "    <tr>\n",
              "      <th>min</th>\n",
              "      <td>1.000000</td>\n",
              "      <td>0.000000</td>\n",
              "      <td>1.000000</td>\n",
              "      <td>2.000000</td>\n",
              "      <td>1953.125000</td>\n",
              "      <td>36.816406</td>\n",
              "      <td>28.000000</td>\n",
              "      <td>273.437500</td>\n",
              "      <td>1.218750</td>\n",
              "      <td>0.030560</td>\n",
              "      <td>...</td>\n",
              "      <td>1.000000</td>\n",
              "      <td>0.001356</td>\n",
              "      <td>0.000678</td>\n",
              "      <td>0.036049</td>\n",
              "      <td>1.021925</td>\n",
              "      <td>0.000345</td>\n",
              "      <td>0.000173</td>\n",
              "      <td>19.026307</td>\n",
              "      <td>0.423386</td>\n",
              "      <td>0.000000</td>\n",
              "    </tr>\n",
              "    <tr>\n",
              "      <th>25%</th>\n",
              "      <td>2.000000</td>\n",
              "      <td>40.000000</td>\n",
              "      <td>3.000000</td>\n",
              "      <td>5.000000</td>\n",
              "      <td>4882.812500</td>\n",
              "      <td>84.179688</td>\n",
              "      <td>88.000000</td>\n",
              "      <td>859.375000</td>\n",
              "      <td>1.687500</td>\n",
              "      <td>0.073587</td>\n",
              "      <td>...</td>\n",
              "      <td>1.250000</td>\n",
              "      <td>0.881356</td>\n",
              "      <td>0.315615</td>\n",
              "      <td>22.218097</td>\n",
              "      <td>1.225470</td>\n",
              "      <td>0.276963</td>\n",
              "      <td>0.099686</td>\n",
              "      <td>54.182975</td>\n",
              "      <td>0.426753</td>\n",
              "      <td>0.000000</td>\n",
              "    </tr>\n",
              "    <tr>\n",
              "      <th>50%</th>\n",
              "      <td>3.000000</td>\n",
              "      <td>50.000000</td>\n",
              "      <td>6.000000</td>\n",
              "      <td>6.000000</td>\n",
              "      <td>5859.375000</td>\n",
              "      <td>84.570312</td>\n",
              "      <td>101.000000</td>\n",
              "      <td>986.328125</td>\n",
              "      <td>1.789062</td>\n",
              "      <td>0.074213</td>\n",
              "      <td>...</td>\n",
              "      <td>1.375000</td>\n",
              "      <td>1.137488</td>\n",
              "      <td>0.397822</td>\n",
              "      <td>27.161390</td>\n",
              "      <td>1.256902</td>\n",
              "      <td>0.327407</td>\n",
              "      <td>0.120948</td>\n",
              "      <td>56.325112</td>\n",
              "      <td>0.430091</td>\n",
              "      <td>0.000000</td>\n",
              "    </tr>\n",
              "    <tr>\n",
              "      <th>75%</th>\n",
              "      <td>3.000000</td>\n",
              "      <td>60.000000</td>\n",
              "      <td>6.000000</td>\n",
              "      <td>8.000000</td>\n",
              "      <td>7812.500000</td>\n",
              "      <td>84.765625</td>\n",
              "      <td>121.000000</td>\n",
              "      <td>1181.640625</td>\n",
              "      <td>1.945312</td>\n",
              "      <td>0.074724</td>\n",
              "      <td>...</td>\n",
              "      <td>1.516667</td>\n",
              "      <td>1.352941</td>\n",
              "      <td>0.488091</td>\n",
              "      <td>31.581977</td>\n",
              "      <td>1.289378</td>\n",
              "      <td>0.387862</td>\n",
              "      <td>0.148933</td>\n",
              "      <td>57.774162</td>\n",
              "      <td>0.435042</td>\n",
              "      <td>0.000000</td>\n",
              "    </tr>\n",
              "    <tr>\n",
              "      <th>max</th>\n",
              "      <td>3.000000</td>\n",
              "      <td>90.000000</td>\n",
              "      <td>7.000000</td>\n",
              "      <td>41.000000</td>\n",
              "      <td>40039.062500</td>\n",
              "      <td>84.960938</td>\n",
              "      <td>520.000000</td>\n",
              "      <td>5078.125000</td>\n",
              "      <td>5.062500</td>\n",
              "      <td>0.076232</td>\n",
              "      <td>...</td>\n",
              "      <td>2.988475</td>\n",
              "      <td>4.560000</td>\n",
              "      <td>1.971525</td>\n",
              "      <td>84.905040</td>\n",
              "      <td>1.704702</td>\n",
              "      <td>1.000000</td>\n",
              "      <td>0.417250</td>\n",
              "      <td>63.625898</td>\n",
              "      <td>0.609033</td>\n",
              "      <td>1.000000</td>\n",
              "    </tr>\n",
              "  </tbody>\n",
              "</table>\n",
              "<p>8 rows × 40 columns</p>\n",
              "</div>"
            ],
            "text/plain": [
              "                sex           age       anatomy            V1            V2  \\\n",
              "count  33126.000000  33126.000000  33126.000000  33126.000000  33126.000000   \n",
              "mean       2.513645     48.870016      5.065809      6.878404   6717.191085   \n",
              "std        0.503732     14.365592      1.698412      3.545849   3462.743538   \n",
              "min        1.000000      0.000000      1.000000      2.000000   1953.125000   \n",
              "25%        2.000000     40.000000      3.000000      5.000000   4882.812500   \n",
              "50%        3.000000     50.000000      6.000000      6.000000   5859.375000   \n",
              "75%        3.000000     60.000000      6.000000      8.000000   7812.500000   \n",
              "max        3.000000     90.000000      7.000000     41.000000  40039.062500   \n",
              "\n",
              "                 V3            V4            V5            V6            V7  \\\n",
              "count  33126.000000  33126.000000  33126.000000  33126.000000  33126.000000   \n",
              "mean      84.370619    110.897543   1082.983816      1.866387      0.074047   \n",
              "std        0.905896     37.956843    370.672296      0.296538      0.001333   \n",
              "min       36.816406     28.000000    273.437500      1.218750      0.030560   \n",
              "25%       84.179688     88.000000    859.375000      1.687500      0.073587   \n",
              "50%       84.570312    101.000000    986.328125      1.789062      0.074213   \n",
              "75%       84.765625    121.000000   1181.640625      1.945312      0.074724   \n",
              "max       84.960938    520.000000   5078.125000      5.062500      0.076232   \n",
              "\n",
              "       ...           V28           V29           V30           V31  \\\n",
              "count  ...  33126.000000  33126.000000  33126.000000  33126.000000   \n",
              "mean   ...      1.415027      1.142590      0.408730     27.292585   \n",
              "std    ...      0.277098      0.409174      0.142931      8.152956   \n",
              "min    ...      1.000000      0.001356      0.000678      0.036049   \n",
              "25%    ...      1.250000      0.881356      0.315615     22.218097   \n",
              "50%    ...      1.375000      1.137488      0.397822     27.161390   \n",
              "75%    ...      1.516667      1.352941      0.488091     31.581977   \n",
              "max    ...      2.988475      4.560000      1.971525     84.905040   \n",
              "\n",
              "                V32           V33           V34           V35           V36  \\\n",
              "count  33126.000000  33126.000000  33126.000000  33126.000000  33126.000000   \n",
              "mean       1.264613      0.358829      0.129603     55.520107      0.431964   \n",
              "std        0.063238      0.164234      0.052083      3.343317      0.007983   \n",
              "min        1.021925      0.000345      0.000173     19.026307      0.423386   \n",
              "25%        1.225470      0.276963      0.099686     54.182975      0.426753   \n",
              "50%        1.256902      0.327407      0.120948     56.325112      0.430091   \n",
              "75%        1.289378      0.387862      0.148933     57.774162      0.435042   \n",
              "max        1.704702      1.000000      0.417250     63.625898      0.609033   \n",
              "\n",
              "             target  \n",
              "count  33126.000000  \n",
              "mean       0.017630  \n",
              "std        0.131603  \n",
              "min        0.000000  \n",
              "25%        0.000000  \n",
              "50%        0.000000  \n",
              "75%        0.000000  \n",
              "max        1.000000  \n",
              "\n",
              "[8 rows x 40 columns]"
            ]
          },
          "execution_count": 17,
          "metadata": {},
          "output_type": "execute_result"
        }
      ],
      "source": [
        "df.describe()"
      ]
    },
    {
      "cell_type": "code",
      "execution_count": 18,
      "metadata": {},
      "outputs": [],
      "source": [
        "x= df[df['target'] == 1]"
      ]
    },
    {
      "cell_type": "code",
      "execution_count": 19,
      "metadata": {},
      "outputs": [
        {
          "data": {
            "text/plain": [
              "0    32542\n",
              "1      584\n",
              "Name: target, dtype: int64"
            ]
          },
          "execution_count": 19,
          "metadata": {},
          "output_type": "execute_result"
        }
      ],
      "source": [
        "df['target'].value_counts()"
      ]
    },
    {
      "cell_type": "code",
      "execution_count": 20,
      "metadata": {},
      "outputs": [],
      "source": [
        "# yres=pd.DataFrame(df['target'])\n",
        "# yres['target'].value_counts()"
      ]
    },
    {
      "cell_type": "code",
      "execution_count": 21,
      "metadata": {},
      "outputs": [],
      "source": [
        "x_train, x_test, y_train, y_test = train_test_split(\n",
        "    df.drop('target', axis=1), df['target'], test_size=0.25, random_state=4)\n"
      ]
    },
    {
      "cell_type": "code",
      "execution_count": 22,
      "metadata": {},
      "outputs": [
        {
          "data": {
            "text/plain": [
              "0    8123\n",
              "1     159\n",
              "Name: target, dtype: int64"
            ]
          },
          "execution_count": 22,
          "metadata": {},
          "output_type": "execute_result"
        }
      ],
      "source": [
        "y_test.value_counts()\n"
      ]
    },
    {
      "cell_type": "code",
      "execution_count": 23,
      "metadata": {},
      "outputs": [
        {
          "data": {
            "text/plain": [
              "0    24419\n",
              "1      425\n",
              "Name: target, dtype: int64"
            ]
          },
          "execution_count": 23,
          "metadata": {},
          "output_type": "execute_result"
        }
      ],
      "source": [
        "y_train.value_counts()"
      ]
    },
    {
      "cell_type": "code",
      "execution_count": 24,
      "metadata": {},
      "outputs": [
        {
          "name": "stdout",
          "output_type": "stream",
          "text": [
            "Accuracy: 0.9630524028012557\n"
          ]
        }
      ],
      "source": [
        "clf = DecisionTreeClassifier()\n",
        "\n",
        "# Train Decision Tree Classifer\n",
        "clf = clf.fit(x_train,y_train)\n",
        "\n",
        "#Predict the response for test dataset\n",
        "y_pred = clf.predict(x_test)\n",
        "\n",
        "print(\"Accuracy:\",metrics.accuracy_score(y_test, y_pred))"
      ]
    },
    {
      "cell_type": "code",
      "execution_count": 25,
      "metadata": {},
      "outputs": [
        {
          "data": {
            "text/plain": [
              "array([[7967,  156],\n",
              "       [ 150,    9]], dtype=int64)"
            ]
          },
          "execution_count": 25,
          "metadata": {},
          "output_type": "execute_result"
        }
      ],
      "source": [
        "cm = confusion_matrix(y_test, y_pred)\n",
        "cm\n"
      ]
    },
    {
      "cell_type": "code",
      "execution_count": 26,
      "metadata": {
        "colab": {
          "base_uri": "https://localhost:8080/",
          "height": 201
        },
        "id": "VzXpm8Rqwflv",
        "outputId": "7ccc7cf6-b6f3-4370-8a74-04719a8a7c4f"
      },
      "outputs": [],
      "source": [
        "# corr = df.corr()\n",
        "# # corr\n",
        "# corr.head()"
      ]
    },
    {
      "cell_type": "code",
      "execution_count": 27,
      "metadata": {
        "id": "9fB7Ucqt2gAG"
      },
      "outputs": [],
      "source": [
        "# df['target'].value_counts()\n",
        "# x = df.drop('target',axis = 1)\n"
      ]
    },
    {
      "cell_type": "code",
      "execution_count": 28,
      "metadata": {
        "id": "3ShXjRQ6FEyL"
      },
      "outputs": [],
      "source": [
        "# x_train, x_test, y_train, y_test = train_test_split(x, df['target'], test_size=0.25, random_state=4)"
      ]
    },
    {
      "cell_type": "code",
      "execution_count": 29,
      "metadata": {
        "colab": {
          "base_uri": "https://localhost:8080/"
        },
        "id": "6kw9Nvb4wDBK",
        "outputId": "71f30621-46e7-4e92-cf1c-a4bcc66850e1"
      },
      "outputs": [
        {
          "data": {
            "text/plain": [
              "(24844, 39)"
            ]
          },
          "execution_count": 29,
          "metadata": {},
          "output_type": "execute_result"
        }
      ],
      "source": [
        "x_train.shape"
      ]
    },
    {
      "cell_type": "code",
      "execution_count": 30,
      "metadata": {
        "colab": {
          "base_uri": "https://localhost:8080/"
        },
        "id": "2vqZxrahwHLR",
        "outputId": "71ed7c73-43c5-4b51-d4be-3b8c6c0969f5"
      },
      "outputs": [
        {
          "data": {
            "text/plain": [
              "(24844,)"
            ]
          },
          "execution_count": 30,
          "metadata": {},
          "output_type": "execute_result"
        }
      ],
      "source": [
        "y_train.shape"
      ]
    },
    {
      "cell_type": "code",
      "execution_count": 31,
      "metadata": {
        "colab": {
          "base_uri": "https://localhost:8080/"
        },
        "id": "9jIh4-INwJhF",
        "outputId": "8c9c4b17-9d97-4e45-dde7-4ab732d96f00"
      },
      "outputs": [
        {
          "data": {
            "text/plain": [
              "(8282, 39)"
            ]
          },
          "execution_count": 31,
          "metadata": {},
          "output_type": "execute_result"
        }
      ],
      "source": [
        "x_test.shape"
      ]
    },
    {
      "cell_type": "code",
      "execution_count": 32,
      "metadata": {},
      "outputs": [
        {
          "data": {
            "text/plain": [
              "(8282,)"
            ]
          },
          "execution_count": 32,
          "metadata": {},
          "output_type": "execute_result"
        }
      ],
      "source": [
        "y_test.shape"
      ]
    },
    {
      "cell_type": "code",
      "execution_count": 33,
      "metadata": {
        "id": "StOeh2GOeQy4"
      },
      "outputs": [],
      "source": [
        "st_x= StandardScaler()    \n",
        "x_train= st_x.fit_transform(x_train)    \n",
        "x_test= st_x.transform(x_test)  "
      ]
    },
    {
      "cell_type": "code",
      "execution_count": 34,
      "metadata": {
        "colab": {
          "base_uri": "https://localhost:8080/"
        },
        "id": "dpAVPjXiwSem",
        "outputId": "552cdcce-9709-4c5d-dde7-243ca2c9e724"
      },
      "outputs": [],
      "source": [
        "# x_test[:,1][:10]"
      ]
    },
    {
      "cell_type": "code",
      "execution_count": 35,
      "metadata": {},
      "outputs": [
        {
          "data": {
            "text/plain": [
              "0    8123\n",
              "1     159\n",
              "Name: target, dtype: int64"
            ]
          },
          "execution_count": 35,
          "metadata": {},
          "output_type": "execute_result"
        }
      ],
      "source": [
        "y_test.value_counts()"
      ]
    },
    {
      "cell_type": "code",
      "execution_count": 36,
      "metadata": {
        "colab": {
          "base_uri": "https://localhost:8080/"
        },
        "id": "BktcBJiBaCdf",
        "outputId": "150cf1ff-8933-4934-a736-8dc034118d56"
      },
      "outputs": [
        {
          "name": "stdout",
          "output_type": "stream",
          "text": [
            "Accuracy: 0.9620864525476938\n"
          ]
        }
      ],
      "source": [
        "#DECISION TREE MODEL\n",
        "# Create Decision Tree classifer object\n",
        "clf = DecisionTreeClassifier(splitter='best')\n",
        "\n",
        "# Train Decision Tree Classifer\n",
        "clf = clf.fit(x_train,y_train)\n",
        "\n",
        "#Predict the response for test dataset\n",
        "y_pred = clf.predict(x_test)\n",
        "\n",
        "print(\"Accuracy:\",metrics.accuracy_score(y_test, y_pred))"
      ]
    },
    {
      "cell_type": "code",
      "execution_count": 37,
      "metadata": {},
      "outputs": [
        {
          "data": {
            "text/plain": [
              "(8282,)"
            ]
          },
          "execution_count": 37,
          "metadata": {},
          "output_type": "execute_result"
        }
      ],
      "source": [
        "y_pred.shape"
      ]
    },
    {
      "cell_type": "code",
      "execution_count": 38,
      "metadata": {},
      "outputs": [
        {
          "data": {
            "text/plain": [
              "array([[7956,  167],\n",
              "       [ 147,   12]], dtype=int64)"
            ]
          },
          "execution_count": 38,
          "metadata": {},
          "output_type": "execute_result"
        }
      ],
      "source": [
        "cm = confusion_matrix(y_test, y_pred)\n",
        "cm\n"
      ]
    },
    {
      "cell_type": "code",
      "execution_count": 39,
      "metadata": {},
      "outputs": [
        {
          "data": {
            "image/png": "[encoded data removed]",
            "text/plain": [
              "<Figure size 400x300 with 2 Axes>"
            ]
          },
          "metadata": {},
          "output_type": "display_data"
        }
      ],
      "source": [
        "plot_confusion_matrix(y_test,y_pred, 'Confusion Matrix for Decision Tree')"
      ]
    },
    {
      "cell_type": "code",
      "execution_count": 42,
      "metadata": {},
      "outputs": [],
      "source": [
        "# plot_roc_curve(y_test, y_pred)\n"
      ]
    },
    {
      "cell_type": "code",
      "execution_count": 43,
      "metadata": {
        "colab": {
          "base_uri": "https://localhost:8080/"
        },
        "id": "vgcoA3ZCfdSY",
        "outputId": "795dfac0-9774-4861-f5cc-8dd7df220150"
      },
      "outputs": [
        {
          "name": "stdout",
          "output_type": "stream",
          "text": [
            "Accuracy: 0.9803187635836754\n"
          ]
        }
      ],
      "source": [
        "#KNN MODEL\n",
        "from sklearn.neighbors import KNeighborsClassifier  \n",
        "classifier = KNeighborsClassifier(n_neighbors=4)  # metric='minkowski', p=2\n",
        "classifier.fit(x_train, y_train)\n",
        "y_pred= classifier.predict(x_test)  \n",
        "print(\"Accuracy:\",metrics.accuracy_score(y_test, y_pred))"
      ]
    },
    {
      "cell_type": "code",
      "execution_count": 44,
      "metadata": {},
      "outputs": [
        {
          "data": {
            "text/plain": [
              "array([[8119,    4],\n",
              "       [ 159,    0]], dtype=int64)"
            ]
          },
          "execution_count": 44,
          "metadata": {},
          "output_type": "execute_result"
        }
      ],
      "source": [
        "cm = confusion_matrix(y_test, y_pred)\n",
        "cm\n"
      ]
    },
    {
      "cell_type": "code",
      "execution_count": 76,
      "metadata": {},
      "outputs": [
        {
          "ename": "NameError",
          "evalue": "name 'plot_roc_curve' is not defined",
          "output_type": "error",
          "traceback": [
            "\u001b[1;31m---------------------------------------------------------------------------\u001b[0m",
            "\u001b[1;31mNameError\u001b[0m                                 Traceback (most recent call last)",
            "Cell \u001b[1;32mIn[76], line 1\u001b[0m\n\u001b[1;32m----> 1\u001b[0m plot_roc_curve(y_test, y_pred)\n",
            "\u001b[1;31mNameError\u001b[0m: name 'plot_roc_curve' is not defined"
          ]
        }
      ],
      "source": [
        "# plot_roc_curve(y_test, y_pred)\n"
      ]
    },
    {
      "cell_type": "code",
      "execution_count": 45,
      "metadata": {
        "colab": {
          "base_uri": "https://localhost:8080/"
        },
        "id": "BijlzfL-heu3",
        "outputId": "6acca378-f17f-4d8f-b869-c2148bab520b"
      },
      "outputs": [
        {
          "name": "stdout",
          "output_type": "stream",
          "text": [
            "Accuracy: 0.9808017387104564\n"
          ]
        }
      ],
      "source": [
        "#SVM model\n",
        "classifier = SVC(kernel='linear', random_state=0)\n",
        "classifier.fit(x_train, y_train) \n",
        "y_pred= classifier.predict(x_test)\n",
        "print(\"Accuracy:\",metrics.accuracy_score(y_test, y_pred))"
      ]
    },
    {
      "cell_type": "code",
      "execution_count": 46,
      "metadata": {
        "colab": {
          "base_uri": "https://localhost:8080/"
        },
        "id": "5AXGCn2MdhZ8",
        "outputId": "3c71adff-ffe9-4821-ff5d-055f64d33e15"
      },
      "outputs": [
        {
          "data": {
            "image/png": "[encoded data removed]",
            "text/plain": [
              "<Figure size 400x300 with 2 Axes>"
            ]
          },
          "metadata": {},
          "output_type": "display_data"
        }
      ],
      "source": [
        "# cm = confusion_matrix(y_test,y_pred)\n",
        "# cm\n",
        "yhat = classifier.predict(x_test)\n",
        "plot_confusion_matrix(y_test,yhat, 'Confusion Matrix for Decision Tree')"
      ]
    },
    {
      "cell_type": "code",
      "execution_count": 123,
      "metadata": {},
      "outputs": [
        {
          "data": {
            "text/plain": [
              "array([[8133,    0],\n",
              "       [ 149,    0]], dtype=int64)"
            ]
          },
          "execution_count": 123,
          "metadata": {},
          "output_type": "execute_result"
        }
      ],
      "source": [
        "cm = confusion_matrix(y_test, yhat)\n",
        "cm\n"
      ]
    },
    {
      "cell_type": "code",
      "execution_count": 47,
      "metadata": {
        "id": "k6covYUauyA8"
      },
      "outputs": [],
      "source": [
        "from sklearn.model_selection import GridSearchCV\n",
        "parameters = {'criterion': ['gini', 'entropy'],\n",
        "     'splitter': ['best', 'random'],\n",
        "     'ccp_alpha': [0.1, .01, .001, 0.05],\n",
        "     #'max_depth': [50,70,100],\n",
        "     'max_features': ['auto', 'sqrt']}\n",
        "tree = DecisionTreeClassifier()"
      ]
    },
    {
      "cell_type": "code",
      "execution_count": 48,
      "metadata": {
        "id": "JG80B3ZKvUgH"
      },
      "outputs": [],
      "source": [
        "# Surpress warnings:\n",
        "import warnings\n",
        "def warn(*args, **kwargs):\n",
        "    pass\n",
        "warnings.warn = warn\n"
      ]
    },
    {
      "cell_type": "code",
      "execution_count": 49,
      "metadata": {
        "colab": {
          "base_uri": "https://localhost:8080/",
          "height": 116
        },
        "id": "2oYdZqx2vKX4",
        "outputId": "0ac881e2-4f3a-4bd8-cf1d-82d9a385fdda"
      },
      "outputs": [
        {
          "data": {
            "text/html": [
              "<style>#sk-container-id-1 {color: black;background-color: white;}#sk-container-id-1 pre{padding: 0;}#sk-container-id-1 div.sk-toggleable {background-color: white;}#sk-container-id-1 label.sk-toggleable__label {cursor: pointer;display: block;width: 100%;margin-bottom: 0;padding: 0.3em;box-sizing: border-box;text-align: center;}#sk-container-id-1 label.sk-toggleable__label-arrow:before {content: \"▸\";float: left;margin-right: 0.25em;color: #696969;}#sk-container-id-1 label.sk-toggleable__label-arrow:hover:before {color: black;}#sk-container-id-1 div.sk-estimator:hover label.sk-toggleable__label-arrow:before {color: black;}#sk-container-id-1 div.sk-toggleable__content {max-height: 0;max-width: 0;overflow: hidden;text-align: left;background-color: #f0f8ff;}#sk-container-id-1 div.sk-toggleable__content pre {margin: 0.2em;color: black;border-radius: 0.25em;background-color: #f0f8ff;}#sk-container-id-1 input.sk-toggleable__control:checked~div.sk-toggleable__content {max-height: 200px;max-width: 100%;overflow: auto;}#sk-container-id-1 input.sk-toggleable__control:checked~label.sk-toggleable__label-arrow:before {content: \"▾\";}#sk-container-id-1 div.sk-estimator input.sk-toggleable__control:checked~label.sk-toggleable__label {background-color: #d4ebff;}#sk-container-id-1 div.sk-label input.sk-toggleable__control:checked~label.sk-toggleable__label {background-color: #d4ebff;}#sk-container-id-1 input.sk-hidden--visually {border: 0;clip: rect(1px 1px 1px 1px);clip: rect(1px, 1px, 1px, 1px);height: 1px;margin: -1px;overflow: hidden;padding: 0;position: absolute;width: 1px;}#sk-container-id-1 div.sk-estimator {font-family: monospace;background-color: #f0f8ff;border: 1px dotted black;border-radius: 0.25em;box-sizing: border-box;margin-bottom: 0.5em;}#sk-container-id-1 div.sk-estimator:hover {background-color: #d4ebff;}#sk-container-id-1 div.sk-parallel-item::after {content: \"\";width: 100%;border-bottom: 1px solid gray;flex-grow: 1;}#sk-container-id-1 div.sk-label:hover label.sk-toggleable__label {background-color: #d4ebff;}#sk-container-id-1 div.sk-serial::before {content: \"\";position: absolute;border-left: 1px solid gray;box-sizing: border-box;top: 0;bottom: 0;left: 50%;z-index: 0;}#sk-container-id-1 div.sk-serial {display: flex;flex-direction: column;align-items: center;background-color: white;padding-right: 0.2em;padding-left: 0.2em;position: relative;}#sk-container-id-1 div.sk-item {position: relative;z-index: 1;}#sk-container-id-1 div.sk-parallel {display: flex;align-items: stretch;justify-content: center;background-color: white;position: relative;}#sk-container-id-1 div.sk-item::before, #sk-container-id-1 div.sk-parallel-item::before {content: \"\";position: absolute;border-left: 1px solid gray;box-sizing: border-box;top: 0;bottom: 0;left: 50%;z-index: -1;}#sk-container-id-1 div.sk-parallel-item {display: flex;flex-direction: column;z-index: 1;position: relative;background-color: white;}#sk-container-id-1 div.sk-parallel-item:first-child::after {align-self: flex-end;width: 50%;}#sk-container-id-1 div.sk-parallel-item:last-child::after {align-self: flex-start;width: 50%;}#sk-container-id-1 div.sk-parallel-item:only-child::after {width: 0;}#sk-container-id-1 div.sk-dashed-wrapped {border: 1px dashed gray;margin: 0 0.4em 0.5em 0.4em;box-sizing: border-box;padding-bottom: 0.4em;background-color: white;}#sk-container-id-1 div.sk-label label {font-family: monospace;font-weight: bold;display: inline-block;line-height: 1.2em;}#sk-container-id-1 div.sk-label-container {text-align: center;}#sk-container-id-1 div.sk-container {/* jupyter's `normalize.less` sets `[hidden] { display: none; }` but bootstrap.min.css set `[hidden] { display: none !important; }` so we also need the `!important` here to be able to override the default hidden behavior on the sphinx rendered scikit-learn.org. See: https://github.com/scikit-learn/scikit-learn/issues/21755 */display: inline-block !important;position: relative;}#sk-container-id-1 div.sk-text-repr-fallback {display: none;}</style><div id=\"sk-container-id-1\" class=\"sk-top-container\"><div class=\"sk-text-repr-fallback\"><pre>GridSearchCV(cv=10, estimator=DecisionTreeClassifier(),\n",
              "             param_grid={&#x27;ccp_alpha&#x27;: [0.1, 0.01, 0.001, 0.05],\n",
              "                         &#x27;criterion&#x27;: [&#x27;gini&#x27;, &#x27;entropy&#x27;],\n",
              "                         &#x27;max_features&#x27;: [&#x27;auto&#x27;, &#x27;sqrt&#x27;],\n",
              "                         &#x27;splitter&#x27;: [&#x27;best&#x27;, &#x27;random&#x27;]})</pre><b>In a Jupyter environment, please rerun this cell to show the HTML representation or trust the notebook. <br />On GitHub, the HTML representation is unable to render, please try loading this page with nbviewer.org.</b></div><div class=\"sk-container\" hidden><div class=\"sk-item sk-dashed-wrapped\"><div class=\"sk-label-container\"><div class=\"sk-label sk-toggleable\"><input class=\"sk-toggleable__control sk-hidden--visually\" id=\"sk-estimator-id-1\" type=\"checkbox\" ><label for=\"sk-estimator-id-1\" class=\"sk-toggleable__label sk-toggleable__label-arrow\">GridSearchCV</label><div class=\"sk-toggleable__content\"><pre>GridSearchCV(cv=10, estimator=DecisionTreeClassifier(),\n",
              "             param_grid={&#x27;ccp_alpha&#x27;: [0.1, 0.01, 0.001, 0.05],\n",
              "                         &#x27;criterion&#x27;: [&#x27;gini&#x27;, &#x27;entropy&#x27;],\n",
              "                         &#x27;max_features&#x27;: [&#x27;auto&#x27;, &#x27;sqrt&#x27;],\n",
              "                         &#x27;splitter&#x27;: [&#x27;best&#x27;, &#x27;random&#x27;]})</pre></div></div></div><div class=\"sk-parallel\"><div class=\"sk-parallel-item\"><div class=\"sk-item\"><div class=\"sk-label-container\"><div class=\"sk-label sk-toggleable\"><input class=\"sk-toggleable__control sk-hidden--visually\" id=\"sk-estimator-id-2\" type=\"checkbox\" ><label for=\"sk-estimator-id-2\" class=\"sk-toggleable__label sk-toggleable__label-arrow\">estimator: DecisionTreeClassifier</label><div class=\"sk-toggleable__content\"><pre>DecisionTreeClassifier()</pre></div></div></div><div class=\"sk-serial\"><div class=\"sk-item\"><div class=\"sk-estimator sk-toggleable\"><input class=\"sk-toggleable__control sk-hidden--visually\" id=\"sk-estimator-id-3\" type=\"checkbox\" ><label for=\"sk-estimator-id-3\" class=\"sk-toggleable__label sk-toggleable__label-arrow\">DecisionTreeClassifier</label><div class=\"sk-toggleable__content\"><pre>DecisionTreeClassifier()</pre></div></div></div></div></div></div></div></div></div></div>"
            ],
            "text/plain": [
              "GridSearchCV(cv=10, estimator=DecisionTreeClassifier(),\n",
              "             param_grid={'ccp_alpha': [0.1, 0.01, 0.001, 0.05],\n",
              "                         'criterion': ['gini', 'entropy'],\n",
              "                         'max_features': ['auto', 'sqrt'],\n",
              "                         'splitter': ['best', 'random']})"
            ]
          },
          "execution_count": 49,
          "metadata": {},
          "output_type": "execute_result"
        }
      ],
      "source": [
        "tree_cv= GridSearchCV(tree,parameters, cv=10)\n",
        "tree_cv.fit(x_train,y_train)"
      ]
    },
    {
      "cell_type": "code",
      "execution_count": 50,
      "metadata": {
        "colab": {
          "base_uri": "https://localhost:8080/"
        },
        "id": "IY_3pldkvE_V",
        "outputId": "f65fe0cc-b29d-4d0b-a4e9-af97a162a5aa"
      },
      "outputs": [
        {
          "name": "stdout",
          "output_type": "stream",
          "text": [
            "Tuned hpyerparameters :(best parameters)  {'ccp_alpha': 0.1, 'criterion': 'gini', 'max_features': 'auto', 'splitter': 'best'}\n",
            "accuracy : 0.9828932856397646\n"
          ]
        }
      ],
      "source": [
        "print(\"Tuned hpyerparameters :(best parameters) \",tree_cv.best_params_)\n",
        "print(\"accuracy :\",tree_cv.best_score_)"
      ]
    },
    {
      "cell_type": "code",
      "execution_count": 51,
      "metadata": {
        "colab": {
          "base_uri": "https://localhost:8080/"
        },
        "id": "1y-WtLeGxWMH",
        "outputId": "2e46805a-a0e8-4306-bd33-751524278601"
      },
      "outputs": [
        {
          "data": {
            "text/plain": [
              "0.9808017387104564"
            ]
          },
          "execution_count": 51,
          "metadata": {},
          "output_type": "execute_result"
        }
      ],
      "source": [
        "dtts= tree_cv.score(x_test,y_test)\n",
        "dtts"
      ]
    },
    {
      "cell_type": "code",
      "execution_count": 52,
      "metadata": {
        "id": "oDbOzTLavHSB"
      },
      "outputs": [],
      "source": [
        "# tree= DecisionTreeClassifier(max_depth=100)\n",
        "# tree.fit(x_train,y_train)\n",
        "# print(tree.max_depth)\n",
        "# tree_cv.predict(x_test)\n",
        "#\n"
      ]
    },
    {
      "cell_type": "code",
      "execution_count": 53,
      "metadata": {
        "colab": {
          "base_uri": "https://localhost:8080/",
          "height": 478
        },
        "id": "LQAi457ZxLp_",
        "outputId": "3b544cd0-c92c-48a8-9d4a-5900904d6413"
      },
      "outputs": [
        {
          "data": {
            "image/png": "[encoded data removed]",
            "text/plain": [
              "<Figure size 400x300 with 2 Axes>"
            ]
          },
          "metadata": {},
          "output_type": "display_data"
        }
      ],
      "source": [
        "yhat = tree_cv.predict(x_test)\n",
        "plot_confusion_matrix(y_test,yhat, 'Confusion Matrix for Decision Tree')"
      ]
    },
    {
      "cell_type": "code",
      "execution_count": 55,
      "metadata": {
        "id": "KrDXVrdCxoIn"
      },
      "outputs": [],
      "source": [
        "#\n",
        "from sklearn.ensemble import RandomForestClassifier\n",
        "rfc = RandomForestClassifier(random_state=42)\n",
        "# param_grid = {\n",
        "#     'n_estimators': [200, 500],\n",
        "#     'max_features': ['auto', 'sqrt', 'log2'],\n",
        "#     'max_depth': [4, 5, 6, 7, 8],\n",
        "#     'criterion': ['gini', 'entropy']\n",
        "# } removed gridsearch for now, was taking too long\n"
      ]
    },
    {
      "cell_type": "code",
      "execution_count": 56,
      "metadata": {},
      "outputs": [
        {
          "data": {
            "text/html": [
              "<style>#sk-container-id-2 {color: black;background-color: white;}#sk-container-id-2 pre{padding: 0;}#sk-container-id-2 div.sk-toggleable {background-color: white;}#sk-container-id-2 label.sk-toggleable__label {cursor: pointer;display: block;width: 100%;margin-bottom: 0;padding: 0.3em;box-sizing: border-box;text-align: center;}#sk-container-id-2 label.sk-toggleable__label-arrow:before {content: \"▸\";float: left;margin-right: 0.25em;color: #696969;}#sk-container-id-2 label.sk-toggleable__label-arrow:hover:before {color: black;}#sk-container-id-2 div.sk-estimator:hover label.sk-toggleable__label-arrow:before {color: black;}#sk-container-id-2 div.sk-toggleable__content {max-height: 0;max-width: 0;overflow: hidden;text-align: left;background-color: #f0f8ff;}#sk-container-id-2 div.sk-toggleable__content pre {margin: 0.2em;color: black;border-radius: 0.25em;background-color: #f0f8ff;}#sk-container-id-2 input.sk-toggleable__control:checked~div.sk-toggleable__content {max-height: 200px;max-width: 100%;overflow: auto;}#sk-container-id-2 input.sk-toggleable__control:checked~label.sk-toggleable__label-arrow:before {content: \"▾\";}#sk-container-id-2 div.sk-estimator input.sk-toggleable__control:checked~label.sk-toggleable__label {background-color: #d4ebff;}#sk-container-id-2 div.sk-label input.sk-toggleable__control:checked~label.sk-toggleable__label {background-color: #d4ebff;}#sk-container-id-2 input.sk-hidden--visually {border: 0;clip: rect(1px 1px 1px 1px);clip: rect(1px, 1px, 1px, 1px);height: 1px;margin: -1px;overflow: hidden;padding: 0;position: absolute;width: 1px;}#sk-container-id-2 div.sk-estimator {font-family: monospace;background-color: #f0f8ff;border: 1px dotted black;border-radius: 0.25em;box-sizing: border-box;margin-bottom: 0.5em;}#sk-container-id-2 div.sk-estimator:hover {background-color: #d4ebff;}#sk-container-id-2 div.sk-parallel-item::after {content: \"\";width: 100%;border-bottom: 1px solid gray;flex-grow: 1;}#sk-container-id-2 div.sk-label:hover label.sk-toggleable__label {background-color: #d4ebff;}#sk-container-id-2 div.sk-serial::before {content: \"\";position: absolute;border-left: 1px solid gray;box-sizing: border-box;top: 0;bottom: 0;left: 50%;z-index: 0;}#sk-container-id-2 div.sk-serial {display: flex;flex-direction: column;align-items: center;background-color: white;padding-right: 0.2em;padding-left: 0.2em;position: relative;}#sk-container-id-2 div.sk-item {position: relative;z-index: 1;}#sk-container-id-2 div.sk-parallel {display: flex;align-items: stretch;justify-content: center;background-color: white;position: relative;}#sk-container-id-2 div.sk-item::before, #sk-container-id-2 div.sk-parallel-item::before {content: \"\";position: absolute;border-left: 1px solid gray;box-sizing: border-box;top: 0;bottom: 0;left: 50%;z-index: -1;}#sk-container-id-2 div.sk-parallel-item {display: flex;flex-direction: column;z-index: 1;position: relative;background-color: white;}#sk-container-id-2 div.sk-parallel-item:first-child::after {align-self: flex-end;width: 50%;}#sk-container-id-2 div.sk-parallel-item:last-child::after {align-self: flex-start;width: 50%;}#sk-container-id-2 div.sk-parallel-item:only-child::after {width: 0;}#sk-container-id-2 div.sk-dashed-wrapped {border: 1px dashed gray;margin: 0 0.4em 0.5em 0.4em;box-sizing: border-box;padding-bottom: 0.4em;background-color: white;}#sk-container-id-2 div.sk-label label {font-family: monospace;font-weight: bold;display: inline-block;line-height: 1.2em;}#sk-container-id-2 div.sk-label-container {text-align: center;}#sk-container-id-2 div.sk-container {/* jupyter's `normalize.less` sets `[hidden] { display: none; }` but bootstrap.min.css set `[hidden] { display: none !important; }` so we also need the `!important` here to be able to override the default hidden behavior on the sphinx rendered scikit-learn.org. See: https://github.com/scikit-learn/scikit-learn/issues/21755 */display: inline-block !important;position: relative;}#sk-container-id-2 div.sk-text-repr-fallback {display: none;}</style><div id=\"sk-container-id-2\" class=\"sk-top-container\"><div class=\"sk-text-repr-fallback\"><pre>RandomForestClassifier(random_state=42)</pre><b>In a Jupyter environment, please rerun this cell to show the HTML representation or trust the notebook. <br />On GitHub, the HTML representation is unable to render, please try loading this page with nbviewer.org.</b></div><div class=\"sk-container\" hidden><div class=\"sk-item\"><div class=\"sk-estimator sk-toggleable\"><input class=\"sk-toggleable__control sk-hidden--visually\" id=\"sk-estimator-id-4\" type=\"checkbox\" checked><label for=\"sk-estimator-id-4\" class=\"sk-toggleable__label sk-toggleable__label-arrow\">RandomForestClassifier</label><div class=\"sk-toggleable__content\"><pre>RandomForestClassifier(random_state=42)</pre></div></div></div></div></div>"
            ],
            "text/plain": [
              "RandomForestClassifier(random_state=42)"
            ]
          },
          "execution_count": 56,
          "metadata": {},
          "output_type": "execute_result"
        }
      ],
      "source": [
        "# CV_rfc = GridSearchCV(estimator=rfc, param_grid=param_grid, cv=5)\n",
        "rfc.fit(x_train, y_train)\n"
      ]
    },
    {
      "cell_type": "code",
      "execution_count": null,
      "metadata": {},
      "outputs": [],
      "source": [
        "# CV_rfc.best_params_"
      ]
    },
    {
      "cell_type": "code",
      "execution_count": 58,
      "metadata": {},
      "outputs": [
        {
          "data": {
            "image/png": "[encoded data removed]",
            "text/plain": [
              "<Figure size 400x300 with 2 Axes>"
            ]
          },
          "metadata": {},
          "output_type": "display_data"
        }
      ],
      "source": [
        "ypred= rfc.predict(x_test)\n",
        "plot_confusion_matrix(y_test,ypred, \"Confusion Matrix for Random Forest\")"
      ]
    },
    {
      "cell_type": "code",
      "execution_count": 59,
      "metadata": {},
      "outputs": [],
      "source": [
        "# rfc1=RandomForestClassifier(random_state=42, max_features='auto', n_estimators= 200, criterion='gini')\n",
        "# rfc1.fit(x_train, y_train)\n"
      ]
    },
    {
      "cell_type": "code",
      "execution_count": null,
      "metadata": {},
      "outputs": [],
      "source": [
        "# pred = rfc.predict(x_test)\n"
      ]
    },
    {
      "cell_type": "code",
      "execution_count": 60,
      "metadata": {},
      "outputs": [],
      "source": [
        "# print(\"Accuracy for Random Forest on CV data: \", accuracy_score(y_test, pred))\n",
        "# rfc.score(x_test, y_test)"
      ]
    },
    {
      "cell_type": "code",
      "execution_count": 61,
      "metadata": {},
      "outputs": [],
      "source": [
        "# yhat = rfc.predict(x_test)\n",
        "# plot_confusion_matrix(y_test,yhat, 'Confusion Matrix for Random Forest')"
      ]
    },
    {
      "cell_type": "code",
      "execution_count": 116,
      "metadata": {},
      "outputs": [
        {
          "name": "stdout",
          "output_type": "stream",
          "text": [
            "Model: \"sequential_8\"\n",
            "_________________________________________________________________\n",
            " Layer (type)                Output Shape              Param #   \n",
            "=================================================================\n",
            " dense_60 (Dense)            (None, 100)               4000      \n",
            "                                                                 \n",
            " dense_61 (Dense)            (None, 20)                2020      \n",
            "                                                                 \n",
            " dropout_42 (Dropout)        (None, 20)                0         \n",
            "                                                                 \n",
            " dense_62 (Dense)            (None, 50)                1050      \n",
            "                                                                 \n",
            " dropout_43 (Dropout)        (None, 50)                0         \n",
            "                                                                 \n",
            " dense_63 (Dense)            (None, 100)               5100      \n",
            "                                                                 \n",
            " dropout_44 (Dropout)        (None, 100)               0         \n",
            "                                                                 \n",
            " dense_64 (Dense)            (None, 150)               15150     \n",
            "                                                                 \n",
            " dense_65 (Dense)            (None, 200)               30200     \n",
            "                                                                 \n",
            " dropout_45 (Dropout)        (None, 200)               0         \n",
            "                                                                 \n",
            " dense_66 (Dense)            (None, 100)               20100     \n",
            "                                                                 \n",
            " dropout_46 (Dropout)        (None, 100)               0         \n",
            "                                                                 \n",
            " dense_67 (Dense)            (None, 50)                5050      \n",
            "                                                                 \n",
            " dropout_47 (Dropout)        (None, 50)                0         \n",
            "                                                                 \n",
            " dense_68 (Dense)            (None, 25)                1275      \n",
            "                                                                 \n",
            " dropout_48 (Dropout)        (None, 25)                0         \n",
            "                                                                 \n",
            " dense_69 (Dense)            (None, 1)                 26        \n",
            "                                                                 \n",
            "=================================================================\n",
            "Total params: 83,971\n",
            "Trainable params: 83,971\n",
            "Non-trainable params: 0\n",
            "_________________________________________________________________\n"
          ]
        }
      ],
      "source": [
        "import tensorflow as tf\n",
        "from tensorflow import keras\n",
        "from tensorflow.keras.layers import Dense, Activation, Dropout\n",
        "from tensorflow.keras.optimizers import Adam\n",
        "\n",
        "optimizer = Adam(learning_rate=0.001, beta_1=0.9,\n",
        "                 beta_2=0.999, epsilon=1e-07, amsgrad=False)\n",
        "ANN_model = keras.Sequential()\n",
        "ANN_model.add(\n",
        "    Dense(100, input_dim=39, kernel_initializer='normal', activation='relu'))\n",
        "ANN_model.add(Dense(20, activation='relu'))\n",
        "ANN_model.add(Dropout(0.1))\n",
        "ANN_model.add(Dense(50, activation='relu'))\n",
        "ANN_model.add(Dropout(0.1))\n",
        "ANN_model.add(Dense(100, activation='relu'))\n",
        "ANN_model.add(Dropout(0.1))\n",
        "ANN_model.add(Dense(150, activation='relu'))\n",
        "# ANN_model.add(Dense(400, activation='relu'))\n",
        "ANN_model.add(Dense(200, activation='relu'))\n",
        "\n",
        "ANN_model.add(Dropout(0.1))\n",
        "ANN_model.add(Dense(100, activation='relu'))\n",
        "ANN_model.add(Dropout(0.1))\n",
        "ANN_model.add(Dense(50, activation='relu'))\n",
        "ANN_model.add(Dropout(0.1))\n",
        "ANN_model.add(Dense(25, activation='relu'))\n",
        "ANN_model.add(Dropout(0.1))\n",
        "ANN_model.add(Dense(1, activation='sigmoid'))\n",
        "ANN_model.compile(loss='mse', optimizer='adam')\n",
        "ANN_model.summary()\n"
      ]
    },
    {
      "cell_type": "code",
      "execution_count": 128,
      "metadata": {},
      "outputs": [
        {
          "name": "stdout",
          "output_type": "stream",
          "text": [
            "Epoch 1/5\n",
            "659/659 [==============================] - 3s 4ms/step - loss: 0.0321 - val_loss: 0.0432\n",
            "Epoch 2/5\n",
            "659/659 [==============================] - 3s 5ms/step - loss: 0.0297 - val_loss: 0.0394\n",
            "Epoch 3/5\n",
            "659/659 [==============================] - 4s 6ms/step - loss: 0.0288 - val_loss: 0.0440\n",
            "Epoch 4/5\n",
            "659/659 [==============================] - 4s 6ms/step - loss: 0.0291 - val_loss: 0.0402\n",
            "Epoch 5/5\n",
            "659/659 [==============================] - 4s 5ms/step - loss: 0.0302 - val_loss: 0.0421\n"
          ]
        }
      ],
      "source": [
        "history= ANN_model.fit(x_train, y_train, epochs=5, validation_split=0.2)"
      ]
    },
    {
      "cell_type": "code",
      "execution_count": 125,
      "metadata": {},
      "outputs": [
        {
          "name": "stderr",
          "output_type": "stream",
          "text": [
            "WARNING:absl:Found untraced functions such as _update_step_xla while saving (showing 1 of 1). These functions will not be directly callable after loading.\n"
          ]
        },
        {
          "name": "stdout",
          "output_type": "stream",
          "text": [
            "INFO:tensorflow:Assets written to: ANN MODEL\\assets\n"
          ]
        },
        {
          "name": "stderr",
          "output_type": "stream",
          "text": [
            "INFO:tensorflow:Assets written to: ANN MODEL\\assets\n"
          ]
        }
      ],
      "source": [
        "#ANN_model.save(\"ANN MODEL\")\n"
      ]
    },
    {
      "cell_type": "code",
      "execution_count": 129,
      "metadata": {},
      "outputs": [
        {
          "name": "stdout",
          "output_type": "stream",
          "text": [
            "275/275 [==============================] - 1s 2ms/step\n"
          ]
        },
        {
          "data": {
            "text/plain": [
              "array([[2.9226805e-13],\n",
              "       [3.7416066e-06],\n",
              "       [1.9919168e-04],\n",
              "       ...,\n",
              "       [8.9110941e-09],\n",
              "       [9.0505785e-07],\n",
              "       [7.5536683e-08]], dtype=float32)"
            ]
          },
          "execution_count": 129,
          "metadata": {},
          "output_type": "execute_result"
        }
      ],
      "source": [
        "yhat= ANN_model.predict(x_test)\n",
        "# plot_confusion_matrix(y_test,yhat, 'Confusion Matrix for ANN')\n",
        "yhat"
      ]
    },
    {
      "cell_type": "code",
      "execution_count": 130,
      "metadata": {},
      "outputs": [
        {
          "name": "stdout",
          "output_type": "stream",
          "text": [
            "275/275 [==============================] - 1s 2ms/step - loss: 0.0427\n"
          ]
        }
      ],
      "source": [
        "res= ANN_model.evaluate(x_test, y_test)"
      ]
    },
    {
      "cell_type": "code",
      "execution_count": 131,
      "metadata": {},
      "outputs": [
        {
          "data": {
            "text/plain": [
              "0.957317128777504"
            ]
          },
          "execution_count": 131,
          "metadata": {},
          "output_type": "execute_result"
        }
      ],
      "source": [
        "1-res"
      ]
    },
    {
      "cell_type": "code",
      "execution_count": 122,
      "metadata": {},
      "outputs": [
        {
          "data": {
            "image/png": "[encoded data removed]",
            "text/plain": [
              "<Figure size 640x480 with 1 Axes>"
            ]
          },
          "metadata": {},
          "output_type": "display_data"
        }
      ],
      "source": [
        "plt.plot(history.history['loss'])\n",
        "plt.plot(history.history['val_loss'])\n",
        "plt.title('Model loss')\n",
        "plt.ylabel('loss')\n",
        "plt.xlabel('epoch')\n",
        "plt.legend(['train_loss', 'val_loss'], loc='upper right')\n",
        "plt.show()\n"
      ]
    },
    {
      "cell_type": "code",
      "execution_count": 56,
      "metadata": {},
      "outputs": [
        {
          "data": {
            "text/plain": [
              "8787"
            ]
          },
          "execution_count": 56,
          "metadata": {},
          "output_type": "execute_result"
        }
      ],
      "source": [
        "len(yhat)"
      ]
    },
    {
      "cell_type": "code",
      "execution_count": 133,
      "metadata": {},
      "outputs": [
        {
          "data": {
            "text/plain": [
              "Class\n",
              "0        8787\n",
              "dtype: int64"
            ]
          },
          "execution_count": 133,
          "metadata": {},
          "output_type": "execute_result"
        }
      ],
      "source": [
        "yhatann =  np.argmax(yhat, axis=1)\n",
        "yann= pd.DataFrame(yhatann)\n",
        "yann.columns=['Class']\n",
        "yann['Class']\n",
        "yann.value_counts()\n",
        "# pd.DataFrame(y_test).value_counts()\n",
        "# confusion_matrix(y_test, yann['Class'], \"Confusion Matrix for ANN\")\n"
      ]
    },
    {
      "cell_type": "code",
      "execution_count": 146,
      "metadata": {},
      "outputs": [],
      "source": [
        "# pd.DataFrame(yhat).to_csv('yhat.csv')"
      ]
    },
    {
      "cell_type": "code",
      "execution_count": 62,
      "metadata": {},
      "outputs": [],
      "source": [
        "from xgboost import XGBClassifier"
      ]
    },
    {
      "cell_type": "code",
      "execution_count": 63,
      "metadata": {},
      "outputs": [
        {
          "data": {
            "text/html": [
              "<style>#sk-container-id-3 {color: black;background-color: white;}#sk-container-id-3 pre{padding: 0;}#sk-container-id-3 div.sk-toggleable {background-color: white;}#sk-container-id-3 label.sk-toggleable__label {cursor: pointer;display: block;width: 100%;margin-bottom: 0;padding: 0.3em;box-sizing: border-box;text-align: center;}#sk-container-id-3 label.sk-toggleable__label-arrow:before {content: \"▸\";float: left;margin-right: 0.25em;color: #696969;}#sk-container-id-3 label.sk-toggleable__label-arrow:hover:before {color: black;}#sk-container-id-3 div.sk-estimator:hover label.sk-toggleable__label-arrow:before {color: black;}#sk-container-id-3 div.sk-toggleable__content {max-height: 0;max-width: 0;overflow: hidden;text-align: left;background-color: #f0f8ff;}#sk-container-id-3 div.sk-toggleable__content pre {margin: 0.2em;color: black;border-radius: 0.25em;background-color: #f0f8ff;}#sk-container-id-3 input.sk-toggleable__control:checked~div.sk-toggleable__content {max-height: 200px;max-width: 100%;overflow: auto;}#sk-container-id-3 input.sk-toggleable__control:checked~label.sk-toggleable__label-arrow:before {content: \"▾\";}#sk-container-id-3 div.sk-estimator input.sk-toggleable__control:checked~label.sk-toggleable__label {background-color: #d4ebff;}#sk-container-id-3 div.sk-label input.sk-toggleable__control:checked~label.sk-toggleable__label {background-color: #d4ebff;}#sk-container-id-3 input.sk-hidden--visually {border: 0;clip: rect(1px 1px 1px 1px);clip: rect(1px, 1px, 1px, 1px);height: 1px;margin: -1px;overflow: hidden;padding: 0;position: absolute;width: 1px;}#sk-container-id-3 div.sk-estimator {font-family: monospace;background-color: #f0f8ff;border: 1px dotted black;border-radius: 0.25em;box-sizing: border-box;margin-bottom: 0.5em;}#sk-container-id-3 div.sk-estimator:hover {background-color: #d4ebff;}#sk-container-id-3 div.sk-parallel-item::after {content: \"\";width: 100%;border-bottom: 1px solid gray;flex-grow: 1;}#sk-container-id-3 div.sk-label:hover label.sk-toggleable__label {background-color: #d4ebff;}#sk-container-id-3 div.sk-serial::before {content: \"\";position: absolute;border-left: 1px solid gray;box-sizing: border-box;top: 0;bottom: 0;left: 50%;z-index: 0;}#sk-container-id-3 div.sk-serial {display: flex;flex-direction: column;align-items: center;background-color: white;padding-right: 0.2em;padding-left: 0.2em;position: relative;}#sk-container-id-3 div.sk-item {position: relative;z-index: 1;}#sk-container-id-3 div.sk-parallel {display: flex;align-items: stretch;justify-content: center;background-color: white;position: relative;}#sk-container-id-3 div.sk-item::before, #sk-container-id-3 div.sk-parallel-item::before {content: \"\";position: absolute;border-left: 1px solid gray;box-sizing: border-box;top: 0;bottom: 0;left: 50%;z-index: -1;}#sk-container-id-3 div.sk-parallel-item {display: flex;flex-direction: column;z-index: 1;position: relative;background-color: white;}#sk-container-id-3 div.sk-parallel-item:first-child::after {align-self: flex-end;width: 50%;}#sk-container-id-3 div.sk-parallel-item:last-child::after {align-self: flex-start;width: 50%;}#sk-container-id-3 div.sk-parallel-item:only-child::after {width: 0;}#sk-container-id-3 div.sk-dashed-wrapped {border: 1px dashed gray;margin: 0 0.4em 0.5em 0.4em;box-sizing: border-box;padding-bottom: 0.4em;background-color: white;}#sk-container-id-3 div.sk-label label {font-family: monospace;font-weight: bold;display: inline-block;line-height: 1.2em;}#sk-container-id-3 div.sk-label-container {text-align: center;}#sk-container-id-3 div.sk-container {/* jupyter's `normalize.less` sets `[hidden] { display: none; }` but bootstrap.min.css set `[hidden] { display: none !important; }` so we also need the `!important` here to be able to override the default hidden behavior on the sphinx rendered scikit-learn.org. See: https://github.com/scikit-learn/scikit-learn/issues/21755 */display: inline-block !important;position: relative;}#sk-container-id-3 div.sk-text-repr-fallback {display: none;}</style><div id=\"sk-container-id-3\" class=\"sk-top-container\"><div class=\"sk-text-repr-fallback\"><pre>XGBClassifier(base_score=None, booster=None, callbacks=None,\n",
              "              colsample_bylevel=None, colsample_bynode=None,\n",
              "              colsample_bytree=None, early_stopping_rounds=None,\n",
              "              enable_categorical=False, eval_metric=None, feature_types=None,\n",
              "              gamma=None, gpu_id=None, grow_policy=None, importance_type=None,\n",
              "              interaction_constraints=None, learning_rate=None, max_bin=None,\n",
              "              max_cat_threshold=None, max_cat_to_onehot=None,\n",
              "              max_delta_step=None, max_depth=None, max_leaves=None,\n",
              "              min_child_weight=None, missing=nan, monotone_constraints=None,\n",
              "              n_estimators=100, n_jobs=None, num_parallel_tree=None,\n",
              "              predictor=None, random_state=None, ...)</pre><b>In a Jupyter environment, please rerun this cell to show the HTML representation or trust the notebook. <br />On GitHub, the HTML representation is unable to render, please try loading this page with nbviewer.org.</b></div><div class=\"sk-container\" hidden><div class=\"sk-item\"><div class=\"sk-estimator sk-toggleable\"><input class=\"sk-toggleable__control sk-hidden--visually\" id=\"sk-estimator-id-5\" type=\"checkbox\" checked><label for=\"sk-estimator-id-5\" class=\"sk-toggleable__label sk-toggleable__label-arrow\">XGBClassifier</label><div class=\"sk-toggleable__content\"><pre>XGBClassifier(base_score=None, booster=None, callbacks=None,\n",
              "              colsample_bylevel=None, colsample_bynode=None,\n",
              "              colsample_bytree=None, early_stopping_rounds=None,\n",
              "              enable_categorical=False, eval_metric=None, feature_types=None,\n",
              "              gamma=None, gpu_id=None, grow_policy=None, importance_type=None,\n",
              "              interaction_constraints=None, learning_rate=None, max_bin=None,\n",
              "              max_cat_threshold=None, max_cat_to_onehot=None,\n",
              "              max_delta_step=None, max_depth=None, max_leaves=None,\n",
              "              min_child_weight=None, missing=nan, monotone_constraints=None,\n",
              "              n_estimators=100, n_jobs=None, num_parallel_tree=None,\n",
              "              predictor=None, random_state=None, ...)</pre></div></div></div></div></div>"
            ],
            "text/plain": [
              "XGBClassifier(base_score=None, booster=None, callbacks=None,\n",
              "              colsample_bylevel=None, colsample_bynode=None,\n",
              "              colsample_bytree=None, early_stopping_rounds=None,\n",
              "              enable_categorical=False, eval_metric=None, feature_types=None,\n",
              "              gamma=None, gpu_id=None, grow_policy=None, importance_type=None,\n",
              "              interaction_constraints=None, learning_rate=None, max_bin=None,\n",
              "              max_cat_threshold=None, max_cat_to_onehot=None,\n",
              "              max_delta_step=None, max_depth=None, max_leaves=None,\n",
              "              min_child_weight=None, missing=nan, monotone_constraints=None,\n",
              "              n_estimators=100, n_jobs=None, num_parallel_tree=None,\n",
              "              predictor=None, random_state=None, ...)"
            ]
          },
          "execution_count": 63,
          "metadata": {},
          "output_type": "execute_result"
        }
      ],
      "source": [
        "xgb = XGBClassifier()\n",
        "xgb.fit(x_train, y_train)"
      ]
    },
    {
      "cell_type": "code",
      "execution_count": 64,
      "metadata": {},
      "outputs": [],
      "source": [
        "yhat= xgb.predict(x_test)"
      ]
    },
    {
      "cell_type": "code",
      "execution_count": 65,
      "metadata": {},
      "outputs": [
        {
          "name": "stdout",
          "output_type": "stream",
          "text": [
            "Accuracy: 98.12%\n"
          ]
        }
      ],
      "source": [
        "from sklearn.metrics import accuracy_score\n",
        "accuracy = accuracy_score(y_test, yhat)\n",
        "print(\"Accuracy: %.2f%%\" % (accuracy * 100.0))"
      ]
    },
    {
      "cell_type": "code",
      "execution_count": 66,
      "metadata": {},
      "outputs": [
        {
          "data": {
            "text/plain": [
              "0.9811639700555421"
            ]
          },
          "execution_count": 66,
          "metadata": {},
          "output_type": "execute_result"
        }
      ],
      "source": [
        "xgb.score(x_test, y_test)"
      ]
    },
    {
      "cell_type": "code",
      "execution_count": 67,
      "metadata": {},
      "outputs": [
        {
          "data": {
            "image/png": "[encoded data removed]",
            "text/plain": [
              "<Figure size 400x300 with 2 Axes>"
            ]
          },
          "metadata": {},
          "output_type": "display_data"
        }
      ],
      "source": [
        "yhat= xgb.predict(x_test)\n",
        "plot_confusion_matrix(y_test,yhat, 'Confusion Matrix for XGBoost')"
      ]
    },
    {
      "cell_type": "code",
      "execution_count": 68,
      "metadata": {},
      "outputs": [
        {
          "data": {
            "text/plain": [
              "0    8123\n",
              "1     159\n",
              "Name: target, dtype: int64"
            ]
          },
          "execution_count": 68,
          "metadata": {},
          "output_type": "execute_result"
        }
      ],
      "source": [
        "# y_test.value_counts()"
      ]
    },
    {
      "cell_type": "code",
      "execution_count": 70,
      "metadata": {},
      "outputs": [],
      "source": [
        "\n",
        "# plot_roc_curve(y_test, yhat)"
      ]
    },
    {
      "cell_type": "code",
      "execution_count": 71,
      "metadata": {},
      "outputs": [],
      "source": [
        "from lightgbm import LGBMClassifier"
      ]
    },
    {
      "cell_type": "code",
      "execution_count": 90,
      "metadata": {},
      "outputs": [
        {
          "name": "stdout",
          "output_type": "stream",
          "text": [
            "0.8531755614585849\n",
            "[[6990 1133]\n",
            " [  83   76]]\n"
          ]
        }
      ],
      "source": [
        "model = LGBMClassifier(n_estimators=100, learning_rate=0.03, class_weight='balanced')\n",
        "model.fit(x_train, y_train)\n",
        "\n",
        "# Predicting the Target variable\n",
        "pred = model.predict(x_test)\n",
        "# print(pred)\n",
        "accuracy = model.score(x_test, y_test)\n",
        "print(accuracy)\n",
        "cm=confusion_matrix(y_test, pred)\n",
        "print(cm)\n"
      ]
    },
    {
      "cell_type": "code",
      "execution_count": 91,
      "metadata": {},
      "outputs": [],
      "source": [
        "from sklearn.model_selection import RepeatedStratifiedKFold, cross_val_score\n",
        "# from sklearn.m import cross_val_score\n",
        "from sklearn.ensemble import AdaBoostClassifier\n",
        "# define the model\n",
        "model = AdaBoostClassifier()\n",
        "# evaluate the model\n",
        "# cv = RepeatedStratifiedKFold(n_splits=10, n_repeats=3, random_state=1)\n",
        "# n_scores = cross_val_score(\n",
        "#     model, x_train, y_train, scoring='accuracy', cv=cv, n_jobs=-1, error_score='raise')\n",
        "# # report performance\n",
        "# print('Accuracy: %.3f (%.3f)' % (mean(n_scores), std(n_scores)))\n"
      ]
    },
    {
      "cell_type": "code",
      "execution_count": 92,
      "metadata": {},
      "outputs": [
        {
          "data": {
            "text/plain": [
              "0.9809224824921516"
            ]
          },
          "execution_count": 92,
          "metadata": {},
          "output_type": "execute_result"
        }
      ],
      "source": [
        "model.fit(x_train,y_train)\n",
        "model.score(x_test,y_test)"
      ]
    },
    {
      "cell_type": "code",
      "execution_count": 93,
      "metadata": {},
      "outputs": [
        {
          "data": {
            "text/plain": [
              "array([[8122,    1],\n",
              "       [ 157,    2]], dtype=int64)"
            ]
          },
          "execution_count": 93,
          "metadata": {},
          "output_type": "execute_result"
        }
      ],
      "source": [
        "yhat=model.predict(x_test)\n",
        "cm=confusion_matrix(y_test, yhat)\n",
        "cm"
      ]
    },
    {
      "cell_type": "code",
      "execution_count": null,
      "metadata": {},
      "outputs": [],
      "source": []
    },
    {
      "attachments": {},
      "cell_type": "markdown",
      "metadata": {},
      "source": [
        "# TODO\n",
        "\n",
        "gbm\n",
        "catboost\n",
        "\n",
        "logistic regression\n",
        "svm "
      ]
    },
    {
      "cell_type": "markdown",
      "metadata": {},
      "source": []
    }
  ],
  "metadata": {
    "colab": {
      "provenance": []
    },
    "kernelspec": {
      "display_name": "Python 3",
      "name": "python3"
    },
    "language_info": {
      "codemirror_mode": {
        "name": "ipython",
        "version": 3
      },
      "file_extension": ".py",
      "mimetype": "text/x-python",
      "name": "python",
      "nbconvert_exporter": "python",
      "pygments_lexer": "ipython3",
      "version": "3.11.1"
    }
  },
  "nbformat": 4,
  "nbformat_minor": 0
}
